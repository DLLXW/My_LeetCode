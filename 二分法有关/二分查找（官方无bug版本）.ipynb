{
 "cells": [
  {
   "cell_type": "code",
   "execution_count": 17,
   "metadata": {},
   "outputs": [],
   "source": [
    "def Binary(nums,val):\n",
    "    left=0\n",
    "    right=len(nums)-1\n",
    "    while left<=right:\n",
    "        #mid=(left+right)//2   #可能导致溢出。加法该减法更合适\n",
    "        #mid=left+(right-left)//2\n",
    "        mid=left+((right-left)>>1)         #位运算更加高逼格\n",
    "        temp=nums[mid]\n",
    "        if val<temp:\n",
    "            right=mid-1\n",
    "        elif val>temp:\n",
    "            left=mid+1\n",
    "        else:\n",
    "            return mid\n",
    "    return False"
   ]
  },
  {
   "cell_type": "code",
   "execution_count": 20,
   "metadata": {},
   "outputs": [
    {
     "data": {
      "text/plain": [
       "0"
      ]
     },
     "execution_count": 20,
     "metadata": {},
     "output_type": "execute_result"
    }
   ],
   "source": [
    "Binary([1,2,3,3,4,6,7,8,8,9,12,14,34,45],1)"
   ]
  },
  {
   "cell_type": "raw",
   "metadata": {},
   "source": [
    "利用位运算"
   ]
  },
  {
   "cell_type": "code",
   "execution_count": null,
   "metadata": {},
   "outputs": [],
   "source": []
  }
 ],
 "metadata": {
  "kernelspec": {
   "display_name": "Python 3",
   "language": "python",
   "name": "python3"
  },
  "language_info": {
   "codemirror_mode": {
    "name": "ipython",
    "version": 3
   },
   "file_extension": ".py",
   "mimetype": "text/x-python",
   "name": "python",
   "nbconvert_exporter": "python",
   "pygments_lexer": "ipython3",
   "version": "3.5.5"
  }
 },
 "nbformat": 4,
 "nbformat_minor": 2
}
