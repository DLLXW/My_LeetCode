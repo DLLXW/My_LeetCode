{
 "cells": [
  {
   "cell_type": "markdown",
   "metadata": {},
   "source": [
    "# 两数之和"
   ]
  },
  {
   "cell_type": "raw",
   "metadata": {},
   "source": [
    "给定一个已按照升序排列 的有序数组，找到两个数使得它们相加之和等于目标数。\n",
    "\n",
    "函数应该返回这两个下标值 index1 和 index2，其中 index1 必须小于 index2。\n",
    "\n",
    "说明:\n",
    "\n",
    "    返回的下标值（index1 和 index2）不是从零开始的。\n",
    "    你可以假设每个输入只对应唯一的答案，而且你不可以重复使用相同的元素。\n",
    "\n",
    "示例:\n",
    "\n",
    "输入: numbers = [2, 7, 11, 15], target = 9\n",
    "输出: [1,2]给定一个已经排好序的整数数组 nums 和一个目标值 target，请你在该数组中找出和为目标值的那 两个 整数，并返回他们的数组下标。\n",
    "\n",
    "你可以假设每种输入只会对应一个答案。但是，你不能重复利用这个数组中同样的元素。\n",
    "\n",
    "示例:\n",
    "\n",
    "给定 nums = [2, 7, 11, 15], target = 9\n",
    "\n",
    "因为 nums[0] + nums[1] = 2 + 7 = 9\n",
    "所以返回 [0, 1]\n",
    "\n"
   ]
  },
  {
   "cell_type": "raw",
   "metadata": {},
   "source": [
    "思路：\n",
    "    时间主要花在查找上面，因此可以利用排好序的特效，利用二分查找。\n",
    "    也可以直接沿用两数之和（未排序）字典的解法，两者的实质都在于优化了查找\n",
    "    \n",
    "    "
   ]
  },
  {
   "cell_type": "raw",
   "metadata": {},
   "source": [
    "熟练使用二分查找法十分关键，注意两个地方：\n",
    "    循环结束条件 left<=right ，当然根据具体问题不同，有些时候需要合理改变，譬如求均方根！\n",
    "    每次用left=middle+1,right=middle-1更新左右，而不是只用middle，因为这样会导致循环无法退出！！思考为什么"
   ]
  },
  {
   "cell_type": "code",
   "execution_count": 10,
   "metadata": {},
   "outputs": [],
   "source": [
    "import math\n",
    "class Solution(object):\n",
    "    def twoSum(self, numbers, target):\n",
    "        \"\"\"\n",
    "        :type numbers: List[int]\n",
    "        :type target: int\n",
    "        :rtype: List[int]\n",
    "        \"\"\"\n",
    "        '''法一，字典索引,击败42%，6%\n",
    "        dic={}\n",
    "        for i in range(len(numbers)):\n",
    "            val=target-numbers[i]\n",
    "            if  val in dic:\n",
    "                return [dic[val]+1,i+1]\n",
    "            else:\n",
    "                dic[numbers[i]]=i\n",
    "        '''\n",
    "        #法二利用二分查找法 21.71% 6.47%\n",
    "        Len=len(numbers)\n",
    "        for i in range(Len):\n",
    "            left=i+1\n",
    "            right=Len-1\n",
    "            val=target-numbers[i]\n",
    "            while left<=right:\n",
    "                mid=(left+right)//2\n",
    "                temp=numbers[mid]\n",
    "                if val==temp:\n",
    "                    return [i+1,mid+1]\n",
    "                else:\n",
    "                    if temp>val:\n",
    "                        right=mid-1\n",
    "                    else:\n",
    "                        left=mid+1         \n",
    "            \n",
    "Sol=Solution()"
   ]
  },
  {
   "cell_type": "code",
   "execution_count": 11,
   "metadata": {},
   "outputs": [
    {
     "data": {
      "text/plain": [
       "[2, 3]"
      ]
     },
     "execution_count": 11,
     "metadata": {},
     "output_type": "execute_result"
    }
   ],
   "source": [
    "Sol.twoSum([2,3,3,5,8],6)"
   ]
  },
  {
   "cell_type": "code",
   "execution_count": null,
   "metadata": {},
   "outputs": [],
   "source": []
  }
 ],
 "metadata": {
  "kernelspec": {
   "display_name": "Python 3",
   "language": "python",
   "name": "python3"
  },
  "language_info": {
   "codemirror_mode": {
    "name": "ipython",
    "version": 3
   },
   "file_extension": ".py",
   "mimetype": "text/x-python",
   "name": "python",
   "nbconvert_exporter": "python",
   "pygments_lexer": "ipython3",
   "version": "3.5.5"
  }
 },
 "nbformat": 4,
 "nbformat_minor": 2
}
