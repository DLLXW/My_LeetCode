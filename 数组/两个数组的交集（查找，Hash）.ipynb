{
 "cells": [
  {
   "cell_type": "markdown",
   "metadata": {},
   "source": [
    "# 两个数组的交集I"
   ]
  },
  {
   "cell_type": "raw",
   "metadata": {},
   "source": [
    "给定两个数组，编写一个函数来计算它们的交集。\n",
    "\n",
    "示例 1:\n",
    "\n",
    "输入: nums1 = [1,2,2,1], nums2 = [2,2]\n",
    "输出: [2]\n",
    "\n",
    "示例 2:\n",
    "\n",
    "输入: nums1 = [4,9,5], nums2 = [9,4,9,8,4]\n",
    "输出: [9,4]\n",
    "\n",
    "说明:\n",
    "\n",
    "    输出结果中的每个元素一定是唯一的。\n",
    "    我们可以不考虑输出结果的顺序。\n",
    "\n"
   ]
  },
  {
   "cell_type": "raw",
   "metadata": {},
   "source": [
    "思路：\n",
    "    如果按照暴力求解法，循环嵌套两个数组，这样时间复杂度是O(n^2)\n",
    "    而利用python的字典结构，可以缩短查找的时间\n",
    "    \n",
    "    1:首先取出一个数组建立该数组的字典索引dic={}，数组的值作为字典的key，value令为1即可！新建一个列表lis=[]\n",
    "    \n",
    "    2:因为输出结果中每个元素唯一，所以不考虑冲突的情况\n",
    "    \n",
    "    3:遍历第二个数组，看数组的值是否在字典中,在里面说明该值重复，append进lis\n",
    "    \n",
    "    "
   ]
  },
  {
   "cell_type": "code",
   "execution_count": 2,
   "metadata": {},
   "outputs": [],
   "source": [
    "class Solution:\n",
    "    def intersection(self, nums1,nums2):\n",
    "        dic={}\n",
    "        lis=[]\n",
    "        for i in range(len(nums1)):\n",
    "                dic[nums1[i]]=1\n",
    "        for j in range(len(nums2)):\n",
    "            if nums2[j] in dic:\n",
    "                if nums2[j] not in lis:\n",
    "                    lis.append(nums2[j])\n",
    "        return lis"
   ]
  },
  {
   "cell_type": "code",
   "execution_count": null,
   "metadata": {},
   "outputs": [],
   "source": []
  }
 ],
 "metadata": {
  "kernelspec": {
   "display_name": "Python 3",
   "language": "python",
   "name": "python3"
  },
  "language_info": {
   "codemirror_mode": {
    "name": "ipython",
    "version": 3
   },
   "file_extension": ".py",
   "mimetype": "text/x-python",
   "name": "python",
   "nbconvert_exporter": "python",
   "pygments_lexer": "ipython3",
   "version": "3.5.5"
  }
 },
 "nbformat": 4,
 "nbformat_minor": 2
}
