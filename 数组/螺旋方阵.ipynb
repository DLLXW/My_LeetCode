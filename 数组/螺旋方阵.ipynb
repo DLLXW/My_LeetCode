{
 "cells": [
  {
   "cell_type": "raw",
   "metadata": {},
   "source": [
    "给定一个正整数 n，生成一个包含 1 到 n2 所有元素，且元素按顺时针顺序螺旋排列的正方形矩阵。\n",
    "\n",
    "示例:\n",
    "\n",
    "输入: 3\n",
    "输出:\n",
    "[\n",
    " [ 1, 2, 3 ],\n",
    " [ 8, 9, 4 ],\n",
    " [ 7, 6, 5 ]\n",
    "]\n",
    "\n"
   ]
  },
  {
   "cell_type": "code",
   "execution_count": null,
   "metadata": {},
   "outputs": [],
   "source": [
    "思路：\n",
    "    初始化一个nxn矩阵，然后\n",
    "    一层一层的填充矩阵，每一层的开头和结尾数字是有递推规律的\n",
    "    当n为奇数：有(n+1)/2层 n为偶数：有n/2层。\n",
    "    每填充一层，就要确定该层的开始填充元素(左上角第一个)，这个可通过动态规划求解\n",
    "    第0层的第一个填充元素为1,最后一个填充元素为(n-1)x4\n",
    "    第1层的第一个填充元素为(n-1)x4+1，最后的一个填充元素为(n-1)x4+(n-3)x4\n",
    "    ......\n",
    "    第i层...\n",
    "    因此第i层的开始填充元素可由i-1层递推而来.状态转移方程\n",
    "       cur_s(floor)=((n-2*floor+1)*4)+cur_s(floor-1)\n",
    "    确定了每一层的起始元素就可以开始填充该层了，每一层的填充需要四步，顺时针填充四个边。\n",
    "    需要注意的是每次填充一层的时候，注意相对坐标和绝对坐标(以nxn矩阵为基准的坐标)的转换!!!"
   ]
  },
  {
   "cell_type": "code",
   "execution_count": 103,
   "metadata": {},
   "outputs": [],
   "source": [
    "#执行用时 : 52 ms, 在Spiral Matrix II的Python3提交中击败了92.03% 的用户\n",
    "#内存消耗 : 12.9 MB, 在Spiral Matrix II的Python3提交中击败了98.20% 的用户"
   ]
  },
  {
   "cell_type": "code",
   "execution_count": 107,
   "metadata": {},
   "outputs": [],
   "source": [
    "def generateMatrix(n):\n",
    "    if n%2==0:     #确定层数\n",
    "        floor=int(n/2)\n",
    "    else:\n",
    "        floor=int((n+1)/2)\n",
    "    matrix=[[0]*n for row in range(n) ] #初始化nxn矩阵\n",
    "    for i in range(floor):\n",
    "        cur_n=n-2*i\n",
    "        cur_star=cur_s(i,n)            #第i层的开始数字\n",
    "        if cur_star==n*n:\n",
    "            matrix[floor-1][floor-1]=cur_star\n",
    "            break\n",
    "        cur_end=cur_star+(n-2*i-1)*4-1    #第i层的结尾数字\n",
    "        cur_list=[c for c in range(cur_star,cur_end+1)]\n",
    "        #开始填充第i层，注意绝对坐标（利用i来转换）\n",
    "        for j in range(0,cur_n):        #填充第一条边\n",
    "            matrix[i][j+i]=cur_list[j]\n",
    "        for k in range(1,cur_n):       #第二条边\n",
    "            matrix[k+i][-1-i]=cur_list[cur_n+k-1]\n",
    "        matrix[n-1-i][0+i:n-1-i]=reversed(cur_list[2*cur_n-1:2*cur_n-1+cur_n-1])#第三条边\n",
    "        for m in range(1,cur_n-1):             #第四条边\n",
    "            matrix[m+i][0+i]=cur_list[0-m]\n",
    "    return matrix\n",
    "\n",
    "def cur_s(floor,n): #动态规划确定每层的起始元素\n",
    "    if floor==0:\n",
    "        return 1\n",
    "    return ((n-2*floor+1)*4)+cur_s(floor-1,n)"
   ]
  },
  {
   "cell_type": "code",
   "execution_count": 108,
   "metadata": {},
   "outputs": [
    {
     "data": {
      "text/plain": [
       "[[1, 2, 3, 4, 5],\n",
       " [16, 17, 18, 19, 6],\n",
       " [15, 24, 25, 20, 7],\n",
       " [14, 23, 22, 21, 8],\n",
       " [13, 12, 11, 10, 9]]"
      ]
     },
     "execution_count": 108,
     "metadata": {},
     "output_type": "execute_result"
    }
   ],
   "source": [
    "generateMatrix(5)"
   ]
  },
  {
   "cell_type": "code",
   "execution_count": 109,
   "metadata": {},
   "outputs": [
    {
     "data": {
      "text/plain": [
       "[[1, 2, 3, 4], [12, 13, 14, 5], [11, 16, 15, 6], [10, 9, 8, 7]]"
      ]
     },
     "execution_count": 109,
     "metadata": {},
     "output_type": "execute_result"
    }
   ],
   "source": [
    "generateMatrix(4)"
   ]
  },
  {
   "cell_type": "code",
   "execution_count": 61,
   "metadata": {},
   "outputs": [
    {
     "data": {
      "text/plain": [
       "3"
      ]
     },
     "execution_count": 61,
     "metadata": {},
     "output_type": "execute_result"
    }
   ],
   "source": [
    "a=[1,2,3,4]\n",
    "b=[6,5,8,7]\n",
    "a[-2]"
   ]
  },
  {
   "cell_type": "code",
   "execution_count": 49,
   "metadata": {},
   "outputs": [],
   "source": [
    "mat=[[0]*4 for row in range(4)]"
   ]
  },
  {
   "cell_type": "code",
   "execution_count": 58,
   "metadata": {},
   "outputs": [],
   "source": [
    "c=mat[:][1]"
   ]
  },
  {
   "cell_type": "code",
   "execution_count": null,
   "metadata": {},
   "outputs": [],
   "source": []
  }
 ],
 "metadata": {
  "kernelspec": {
   "display_name": "Python 3",
   "language": "python",
   "name": "python3"
  },
  "language_info": {
   "codemirror_mode": {
    "name": "ipython",
    "version": 3
   },
   "file_extension": ".py",
   "mimetype": "text/x-python",
   "name": "python",
   "nbconvert_exporter": "python",
   "pygments_lexer": "ipython3",
   "version": "3.5.5"
  }
 },
 "nbformat": 4,
 "nbformat_minor": 2
}
