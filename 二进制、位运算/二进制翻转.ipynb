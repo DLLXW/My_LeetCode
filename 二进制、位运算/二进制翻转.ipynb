{
 "cells": [
  {
   "cell_type": "raw",
   "metadata": {},
   "source": [
    "颠倒给定的 32 位无符号整数的二进制位。\n",
    "\n",
    "示例 1：\n",
    "\n",
    "输入: 00000010100101000001111010011100\n",
    "输出: 00111001011110000010100101000000\n",
    "解释: 输入的二进制串 00000010100101000001111010011100 表示无符号整数 43261596，\n",
    "      因此返回 964176192，其二进制表示形式为 "
   ]
  },
  {
   "cell_type": "raw",
   "metadata": {},
   "source": [
    "思路：\n",
    "    首尾比较，翻转即可"
   ]
  },
  {
   "cell_type": "code",
   "execution_count": 1,
   "metadata": {},
   "outputs": [],
   "source": [
    "class Solution:\n",
    "    # @param n, an integer\n",
    "    # @return an integer\n",
    "    def reverseBits(self, n):\n",
    "        List=list('{:032b}'.format(n))  #首先要转为32位二进制高位补零，转成列表方便翻转\n",
    "        i=0\n",
    "        j=31         \n",
    "        while i<j:\n",
    "            if List[i]!=List[j]:\n",
    "                List[i],List[j]=List[j],List[i]\n",
    "            i+=1\n",
    "            j-=1\n",
    "        return int(''.join(List),2)     #输出十进制"
   ]
  },
  {
   "cell_type": "code",
   "execution_count": 2,
   "metadata": {},
   "outputs": [],
   "source": [
    "Sol=Solution()"
   ]
  },
  {
   "cell_type": "code",
   "execution_count": 6,
   "metadata": {},
   "outputs": [
    {
     "data": {
      "text/plain": [
       "964176192"
      ]
     },
     "execution_count": 6,
     "metadata": {},
     "output_type": "execute_result"
    }
   ],
   "source": [
    "Sol.reverseBits(43261596)"
   ]
  }
 ],
 "metadata": {
  "kernelspec": {
   "display_name": "Python 3",
   "language": "python",
   "name": "python3"
  },
  "language_info": {
   "codemirror_mode": {
    "name": "ipython",
    "version": 3
   },
   "file_extension": ".py",
   "mimetype": "text/x-python",
   "name": "python",
   "nbconvert_exporter": "python",
   "pygments_lexer": "ipython3",
   "version": "3.5.5"
  }
 },
 "nbformat": 4,
 "nbformat_minor": 2
}
