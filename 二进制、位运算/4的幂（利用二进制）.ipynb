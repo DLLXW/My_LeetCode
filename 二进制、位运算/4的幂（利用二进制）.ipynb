{
 "cells": [
  {
   "cell_type": "raw",
   "metadata": {},
   "source": [
    "给定一个整数，写一个函数来判断它是否是 4 的幂次方。\n",
    "\n",
    "示例 1:\n",
    "\n",
    "输入: 27\n",
    "输出: true\n",
    "\n",
    "示例 2:\n",
    "\n",
    "输入: 0\n",
    "输出: false"
   ]
  },
  {
   "cell_type": "code",
   "execution_count": null,
   "metadata": {},
   "outputs": [],
   "source": [
    "思路一：\n",
    "    不断/4，看最后结果是否为1.0，注意一点就是要先将输入转化为浮点形式！\n",
    "思路二：\n",
    "    利用二进制，4的幂的二进制只能是以1开头，其余全为0，且为偶数个0，但注意python的bin()返回的是一个字符串，而且开头前两个字符为'0b'"
   ]
  },
  {
   "cell_type": "code",
   "execution_count": null,
   "metadata": {},
   "outputs": [],
   "source": [
    "class Solution(object):\n",
    "    def isPowerOfFour(self, n):\n",
    "        if n==1:\n",
    "            return True\n",
    "        res=float(n)\n",
    "        while res>=1:\n",
    "            res=res/3\n",
    "            if res==1.0:\n",
    "                return True\n",
    "        return False\n",
    "    '''\n",
    "     ##不妨利用位运算\n",
    "        res=1\n",
    "        if res<=0:\n",
    "            return False\n",
    "        while res<=num:\n",
    "            if res==num:\n",
    "                return True\n",
    "            res<<=2\n",
    "        return False\n",
    "    \n",
    "    '''"
   ]
  },
  {
   "cell_type": "code",
   "execution_count": null,
   "metadata": {},
   "outputs": [],
   "source": [
    "#转成二进制再判断,这种方法的耗时会明显低于其余方案\n",
    "class Solution(object):\n",
    "    def isPowerOfFour(self, num):\n",
    "        \"\"\"\n",
    "        :type num: int\n",
    "        :rtype: bool\n",
    "        \"\"\"\n",
    "        if num==0:\n",
    "            return False\n",
    "        list_num=list(bin(num))\n",
    "        Len=len(list_num)\n",
    "        if (Len-3)%2==0:\n",
    "            for i in range(3,Len):\n",
    "                if list_num[i]!='0':\n",
    "                    return False\n",
    "            return True\n",
    "        else:\n",
    "            return False\n"
   ]
  }
 ],
 "metadata": {
  "kernelspec": {
   "display_name": "Python 3",
   "language": "python",
   "name": "python3"
  },
  "language_info": {
   "codemirror_mode": {
    "name": "ipython",
    "version": 3
   },
   "file_extension": ".py",
   "mimetype": "text/x-python",
   "name": "python",
   "nbconvert_exporter": "python",
   "pygments_lexer": "ipython3",
   "version": "3.5.5"
  }
 },
 "nbformat": 4,
 "nbformat_minor": 2
}
