{
 "cells": [
  {
   "cell_type": "raw",
   "metadata": {},
   "source": [
    "# 给定两个整数，被除数 dividend 和除数 divisor。将两数相除，要求不使用乘法、除法和 mod 运算符。\n",
    "\n",
    "返回被除数 dividend 除以除数 divisor 得到的商。\n",
    "\n",
    "示例 1:\n",
    "\n",
    "输入: dividend = 10, divisor = 3\n",
    "输出: 3\n",
    "\n",
    "示例 2:\n",
    "\n",
    "输入: dividend = 7, divisor = -3\n",
    "输出: -2"
   ]
  },
  {
   "cell_type": "code",
   "execution_count": null,
   "metadata": {},
   "outputs": [],
   "source": [
    "思路：\n",
    "    首先需要明确的在于除法的意义，也就是被除数能减去多少个除数的问题，这样就可以利用减法来实现。关键在于外面如何去判断该减去多少个呢？\n",
    "    在计算机里面的数都是用二进制来表示的，二进制里面有一个很重要的概念:位运算。于是可以想到不如利用2的幂次来作为一个媒介进行外面的\n",
    "    减法操作。例如：1000/6,目的在于寻找1000能减去多少个6，直接求这个数是不好运算的，那么可以在2的幂次里面来选（0,2,4,8,16....）\n",
    "    1000/2^8< 6 <1000/2^7。故外面至少可以确定1000能够减去128个6，然后求得余数:1000-128*6  注意，这里面就体现了为什么要\n",
    "    利用位运算了!!!因为在规定不能使用乘除法的情况下，算6*2^n是可以用位运算实现的。余数232，接下来的操作就是重复上一步的过程，看232能\n",
    "    减去多少个6. 232/2^6<6<232/2^5,故下一步更新被除数为;232-6*2^5 ......\n",
    "    ......\n",
    "    最终结果：\n",
    "        2^7+2^5+.....=166\n",
    "        \n",
    "    注意一些边界情况的处理，譬如能整除的情况。所有循环结束条件是<=,而不仅仅是<\n"
   ]
  },
  {
   "cell_type": "code",
   "execution_count": 53,
   "metadata": {},
   "outputs": [],
   "source": [
    "class Solution:\n",
    "    def divide(self, dividend: int, divisor: int) -> int:\n",
    "        dividend_copy=dividend\n",
    "        divisor_copy=divisor\n",
    "        dividend=abs(dividend)\n",
    "        divisor=abs(divisor)\n",
    "        re=0\n",
    "        while dividend>=divisor:        #需要仔细体会这段代码里面的逻辑关系,外层循环用于更新被除数\n",
    "            temp=dividend\n",
    "            res=0\n",
    "            while temp>=(divisor<<1):   #内层循环用于找到每一个被除数的情况下能减去多少个\n",
    "                res=res+1\n",
    "                temp=(dividend>>res)\n",
    "            re=re+(1<<res)\n",
    "            print(\"2^\",res)\n",
    "            dividend=dividend-(divisor<<res)\n",
    "        if (dividend_copy<0 and divisor_copy<0) or (dividend_copy>0 and divisor_copy>0):\n",
    "            if re>2147483647:\n",
    "                return 2147483647\n",
    "            else:\n",
    "                return re \n",
    "        else:\n",
    "            if re>2147483647:\n",
    "                return -2147483648\n",
    "            else:\n",
    "                return -re"
   ]
  },
  {
   "cell_type": "code",
   "execution_count": 54,
   "metadata": {},
   "outputs": [],
   "source": [
    "Sol=Solution()"
   ]
  },
  {
   "cell_type": "code",
   "execution_count": 57,
   "metadata": {},
   "outputs": [
    {
     "name": "stdout",
     "output_type": "stream",
     "text": [
      "2^ 7\n",
      "2^ 5\n",
      "2^ 2\n",
      "2^ 1\n"
     ]
    },
    {
     "data": {
      "text/plain": [
       "166"
      ]
     },
     "execution_count": 57,
     "metadata": {},
     "output_type": "execute_result"
    }
   ],
   "source": [
    "Sol.divide(1000,6)"
   ]
  },
  {
   "cell_type": "code",
   "execution_count": null,
   "metadata": {},
   "outputs": [],
   "source": []
  }
 ],
 "metadata": {
  "kernelspec": {
   "display_name": "Python 3",
   "language": "python",
   "name": "python3"
  },
  "language_info": {
   "codemirror_mode": {
    "name": "ipython",
    "version": 3
   },
   "file_extension": ".py",
   "mimetype": "text/x-python",
   "name": "python",
   "nbconvert_exporter": "python",
   "pygments_lexer": "ipython3",
   "version": "3.5.5"
  }
 },
 "nbformat": 4,
 "nbformat_minor": 2
}
