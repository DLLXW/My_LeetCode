{
 "cells": [
  {
   "cell_type": "markdown",
   "metadata": {},
   "source": [
    "# 爬楼梯"
   ]
  },
  {
   "cell_type": "raw",
   "metadata": {},
   "source": [
    "假设你正在爬楼梯。需要 n 阶你才能到达楼顶。\n",
    "\n",
    "每次你可以爬 1 或 2 个台阶。你有多少种不同的方法可以爬到楼顶呢？\n",
    "\n",
    "注意：给定 n 是一个正整数。\n",
    "\n",
    "示例 1：\n",
    "\n",
    "输入： 2\n",
    "输出： 2\n",
    "解释： 有两种方法可以爬到楼顶。\n",
    "1.  1 阶 + 1 阶\n",
    "2.  2 阶"
   ]
  },
  {
   "cell_type": "markdown",
   "metadata": {},
   "source": [
    "\n",
    "\n",
    "\n",
    "\n"
   ]
  },
  {
   "cell_type": "raw",
   "metadata": {},
   "source": [
    "思路一：\n",
    "       这其实是一个很显然的递归问题，我们可以很容易的找到它的入口，我们思考，n阶梯子，最后一步我们可以这样达到：\n",
    "       \n",
    "       1 在第n-1台阶上再走一步到达\n",
    "       2 在第n-2台阶上再走两步到达\n",
    "       \n",
    "       因此得到递推表达式：n台阶走法总数f(n):\n",
    "       \n",
    "                           f(n)=f(n-1)+f(n-2) ##也即斐波拉契数列\n",
    "       接下来方法众多：\n",
    "           \n",
    "           可以采用最单纯的递归，但是时间复杂度很高O(2^n)\n",
    "           \n",
    "           可以利用递推公式，采用从底向上的方法，规避掉递归的重复计算"
   ]
  },
  {
   "cell_type": "code",
   "execution_count": 7,
   "metadata": {},
   "outputs": [],
   "source": [
    "##递归大法\n",
    "class Solution0(object):\n",
    "    def climbStairs(self, n):\n",
    "        if n<=2:\n",
    "            return n\n",
    "        else:\n",
    "            return self.climbStairs(n-1)+self.climbStairs(n-2)"
   ]
  },
  {
   "cell_type": "code",
   "execution_count": 8,
   "metadata": {},
   "outputs": [],
   "source": [
    "So1=Solution0()"
   ]
  },
  {
   "cell_type": "code",
   "execution_count": 10,
   "metadata": {},
   "outputs": [
    {
     "name": "stdout",
     "output_type": "stream",
     "text": [
      "89\n"
     ]
    }
   ],
   "source": [
    "print(So1.climbStairs(10))"
   ]
  },
  {
   "cell_type": "code",
   "execution_count": 1,
   "metadata": {},
   "outputs": [],
   "source": [
    "class Solution:\n",
    "    def climbStairs(self, n):\n",
    "        first=1\n",
    "        second=1\n",
    "        if n<=1:\n",
    "            return n\n",
    "        for i in range(1,n):\n",
    "            third=first+second\n",
    "            first=second\n",
    "            second=third\n",
    "        return second\n",
    "            "
   ]
  },
  {
   "cell_type": "code",
   "execution_count": 2,
   "metadata": {},
   "outputs": [],
   "source": [
    "So=Solution()"
   ]
  },
  {
   "cell_type": "code",
   "execution_count": 4,
   "metadata": {},
   "outputs": [
    {
     "name": "stdout",
     "output_type": "stream",
     "text": [
      "89\n"
     ]
    }
   ],
   "source": [
    "print(So.climbStairs(10))"
   ]
  },
  {
   "cell_type": "code",
   "execution_count": null,
   "metadata": {},
   "outputs": [],
   "source": []
  }
 ],
 "metadata": {
  "kernelspec": {
   "display_name": "Python 3",
   "language": "python",
   "name": "python3"
  },
  "language_info": {
   "codemirror_mode": {
    "name": "ipython",
    "version": 3
   },
   "file_extension": ".py",
   "mimetype": "text/x-python",
   "name": "python",
   "nbconvert_exporter": "python",
   "pygments_lexer": "ipython3",
   "version": "3.5.5"
  }
 },
 "nbformat": 4,
 "nbformat_minor": 2
}
