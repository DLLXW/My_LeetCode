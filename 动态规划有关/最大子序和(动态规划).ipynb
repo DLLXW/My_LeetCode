{
 "cells": [
  {
   "cell_type": "markdown",
   "metadata": {},
   "source": [
    "# 最大子序列和"
   ]
  },
  {
   "cell_type": "raw",
   "metadata": {},
   "source": [
    "给定一个整数数组 nums ，找到一个具有最大和的连续子数组（子数组最少包含一个元素），返回其最大和。\n",
    "\n",
    "示例:\n",
    "\n",
    "输入: [-2,1,-3,4,-1,2,1,-5,4],\n",
    "输出: 6\n",
    "解释: 连续子数组 [4,-1,2,1] 的和最大，为 6。\n",
    "\n",
    "进阶:\n",
    "\n",
    "如果你已经实现复杂度为 O(n) 的解法，尝试使用更为精妙的分治法求解。\n"
   ]
  },
  {
   "cell_type": "markdown",
   "metadata": {},
   "source": [
    "利用动态规划求解：参考爬梯子问题，其实这两个是类似问题\n",
    "\n",
    "    状态转移方程\n",
    "    以序列的第n个数为结尾的子序列的最大和：\n",
    "    \n",
    "       SUM(n)= Max(SUM(n-1)+num[n]，num[n])\n",
    "       \n",
    "       根据上面的思路，只要找到这n个里面的最大值即可\n",
    "    \n",
    "    1可以利用单纯的递归（从顶至下，在从下至上），重复计算了很多值，时间复杂度很高\n",
    "    \n",
    "    2下面将考虑直接从底向上计算，算n的时候，不需要重复把1到n-1都算一遍\n",
    "    "
   ]
  },
  {
   "cell_type": "code",
   "execution_count": 1,
   "metadata": {},
   "outputs": [],
   "source": [
    "class Solution:\n",
    "    def maxSubArray(self, nums):\n",
    "        res=[]\n",
    "        for i in range(len(nums)):\n",
    "            res.append(self.fn(i,nums))\n",
    "        return max(res)\n",
    "    def fn(self,n,nums):      #定义这个函数的目的在于求出以各个n为结尾的子序列最大和\n",
    "        if n==0:\n",
    "            return nums[0]\n",
    "        else:\n",
    "            return max(self.fn(n-1,nums)+nums[n],nums[n])\n",
    "    \n",
    "        \n",
    "        "
   ]
  },
  {
   "cell_type": "code",
   "execution_count": 9,
   "metadata": {},
   "outputs": [
    {
     "data": {
      "text/plain": [
       "11"
      ]
     },
     "execution_count": 9,
     "metadata": {},
     "output_type": "execute_result"
    }
   ],
   "source": [
    "So1=Solution()\n",
    "So1.maxSubArray([1,-4,5,-3,6,-3,3,-1,4])\n"
   ]
  },
  {
   "cell_type": "code",
   "execution_count": 6,
   "metadata": {},
   "outputs": [],
   "source": [
    "\n",
    "#利用了利用了上面递归的思想，只不过现在是直接的至底向上。时间复杂度更低\n",
    "class Solution1(object):\n",
    "    def maxSubArray(self, nums):\n",
    "        sub_max=nums[0] #用于保存以第n个数结尾的最大子序和\n",
    "        res=sub_max     #用于保存目前为止找到的以（1-n）结尾的最大子序列和的最大值\n",
    "        for i in range(1,len(nums)):\n",
    "            sub_max=max(nums[i],nums[i]+sub_max)\n",
    "            if res<sub_max:\n",
    "                res=sub_max\n",
    "        return res\n",
    "    "
   ]
  },
  {
   "cell_type": "code",
   "execution_count": 10,
   "metadata": {},
   "outputs": [
    {
     "data": {
      "text/plain": [
       "21"
      ]
     },
     "execution_count": 10,
     "metadata": {},
     "output_type": "execute_result"
    }
   ],
   "source": [
    "So=Solution1()\n",
    "So.maxSubArray([1,-4,5,-3,6,7,3,-1,4])"
   ]
  },
  {
   "cell_type": "code",
   "execution_count": null,
   "metadata": {},
   "outputs": [],
   "source": []
  }
 ],
 "metadata": {
  "kernelspec": {
   "display_name": "Python 3",
   "language": "python",
   "name": "python3"
  },
  "language_info": {
   "codemirror_mode": {
    "name": "ipython",
    "version": 3
   },
   "file_extension": ".py",
   "mimetype": "text/x-python",
   "name": "python",
   "nbconvert_exporter": "python",
   "pygments_lexer": "ipython3",
   "version": "3.5.5"
  }
 },
 "nbformat": 4,
 "nbformat_minor": 2
}
