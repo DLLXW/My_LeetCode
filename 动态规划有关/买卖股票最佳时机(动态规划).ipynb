{
 "cells": [
  {
   "cell_type": "markdown",
   "metadata": {},
   "source": [
    "# 买卖股票最佳时机"
   ]
  },
  {
   "cell_type": "raw",
   "metadata": {},
   "source": [
    "给定一个数组，它的第 i 个元素是一支给定股票第 i 天的价格。\n",
    "\n",
    "如果你最多只允许完成一笔交易（即买入和卖出一支股票），设计一个算法来计算你所能获取的最大利润。\n",
    "\n",
    "注意你不能在买入股票前卖出股票。\n",
    "\n",
    "示例 1:\n",
    "\n",
    "输入: [7,1,5,3,6,4]\n",
    "输出: 5\n",
    "解释: 在第 2 天（股票价格 = 1）的时候买入，在第 5 天（股票价格 = 6）的时候卖出，最大利润 = 6-1 = 5 。\n",
    "     注意利润不能是 7-1 = 6, 因为卖出价格需要大于买入价格。\n",
    "\n",
    "示例 2:\n",
    "\n",
    "输入: [7,6,4,3,1]\n",
    "输出: 0\n",
    "解释: 在这种情况下, 没有交易完成, 所以最大利润为 0。\n",
    "\n"
   ]
  },
  {
   "cell_type": "raw",
   "metadata": {},
   "source": [
    "思路一：\n",
    "    只能经过一次买卖，最大收益需要找到该数组中所有(r>l)中的r-l最大值。\n",
    "    遍历数组：\n",
    "        维护一个当前获得的最大利润maxprofit，维护一个当前所得到的最低的买入价格minprice\n",
    "        检查当前日期的价格——minprice是否比maxprofit还大，如果是，则更新maxprofit"
   ]
  },
  {
   "cell_type": "code",
   "execution_count": 1,
   "metadata": {},
   "outputs": [],
   "source": [
    "class Solution:\n",
    "    def maxProfit(self, prices):\n",
    "        \n",
    "        if len(prices)==0:\n",
    "            return 0\n",
    "        minprice=prices[0]\n",
    "        maxprofit=0\n",
    "        for i in range(len(prices)):\n",
    "            if prices[i]<minprice:\n",
    "                minprice=prices[i]\n",
    "            else:\n",
    "                if maxprofit<prices[i]-minprice:\n",
    "                    maxprofit=prices[i]-minprice\n",
    "        return maxprofit\n",
    "        "
   ]
  },
  {
   "cell_type": "raw",
   "metadata": {},
   "source": [
    "思路二：\n",
    "    动态规划、递归的思想。很容易想到，第n天可以卖，以可以不卖：\n",
    "    则前n天能获得的最大利润：\n",
    "        maxprofit(n)=max(maxprofit(n-1)，prices[n]-min(prices[0:n]))\n",
    "       这种思路的运行时间要比第一种更长"
   ]
  },
  {
   "cell_type": "code",
   "execution_count": 3,
   "metadata": {},
   "outputs": [],
   "source": [
    "class Solution(object):\n",
    "    def maxProfit(self, prices):\n",
    "        i=len(prices)\n",
    "        if i==2:     #边界情况单独处理\n",
    "            if prices[1]-prices[0]>0:\n",
    "                return prices[1]-prices[0]\n",
    "            else:\n",
    "                return 0\n",
    "        if i<=1:\n",
    "            return 0\n",
    "        res=prices[1]-prices[0]   #所维护的前n天的最大利润\n",
    "        for i in range(2,i):\n",
    "            res=max(res,prices[i]-min(prices[0:i]))\n",
    "        if res>0:\n",
    "            return res\n",
    "        else:\n",
    "            return 0\n",
    "                    \n",
    "            "
   ]
  },
  {
   "cell_type": "code",
   "execution_count": 4,
   "metadata": {},
   "outputs": [
    {
     "data": {
      "text/plain": [
       "15"
      ]
     },
     "execution_count": 4,
     "metadata": {},
     "output_type": "execute_result"
    }
   ],
   "source": [
    "sol=Solution()\n",
    "sol.maxProfit([2,3,1,5,6,2,8,9,12,15,4,16,8,15])"
   ]
  },
  {
   "cell_type": "code",
   "execution_count": null,
   "metadata": {},
   "outputs": [],
   "source": []
  }
 ],
 "metadata": {
  "kernelspec": {
   "display_name": "Python 3",
   "language": "python",
   "name": "python3"
  },
  "language_info": {
   "codemirror_mode": {
    "name": "ipython",
    "version": 3
   },
   "file_extension": ".py",
   "mimetype": "text/x-python",
   "name": "python",
   "nbconvert_exporter": "python",
   "pygments_lexer": "ipython3",
   "version": "3.5.5"
  }
 },
 "nbformat": 4,
 "nbformat_minor": 2
}
