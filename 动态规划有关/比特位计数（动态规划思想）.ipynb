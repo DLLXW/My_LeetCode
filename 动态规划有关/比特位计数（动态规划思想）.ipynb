{
 "cells": [
  {
   "cell_type": "raw",
   "metadata": {},
   "source": [
    "给定一个非负整数 num。对于 0 ≤ i ≤ num 范围中的每个数字 i ，计算其二进制数中的 1 的数目并将它们作为数组返回。\n",
    "\n",
    "示例 1:\n",
    "\n",
    "输入: 2\n",
    "输出: [0,1,1]\n",
    "\n",
    "示例 2:\n",
    "\n",
    "输入: 5\n",
    "输出: [0,1,1,2,1,2]"
   ]
  },
  {
   "cell_type": "code",
   "execution_count": null,
   "metadata": {},
   "outputs": [],
   "source": [
    "思路:\n",
    "    如果不希望通过两层循环来计算，可以通过动态规划的思想\n",
    "    数n的比特位个数应该和n/2的比特位个数有关，当n的二进制末尾数为0时，\n",
    "    则n的比特位个数应该和n/2的相等，否则应该等于n/2+1"
   ]
  },
  {
   "cell_type": "code",
   "execution_count": 3,
   "metadata": {},
   "outputs": [],
   "source": [
    "class Solution:\n",
    "    def countBits(self, num):\n",
    "        if num==0:\n",
    "            return [0]\n",
    "        if num==1:\n",
    "            return [0,1]\n",
    "        dp=[0]*(num+1)\n",
    "        dp[1]=1\n",
    "        for i in range(2,num+1):\n",
    "            Bnums=list('{:b}'.format(i))\n",
    "            if Bnums[-1]=='0':\n",
    "                dp[i]=dp[i>>1]\n",
    "            else:\n",
    "                dp[i]=dp[i>>1]+1\n",
    "        return dp\n",
    "            "
   ]
  },
  {
   "cell_type": "code",
   "execution_count": 4,
   "metadata": {},
   "outputs": [],
   "source": [
    "Sol=Solution()"
   ]
  },
  {
   "cell_type": "code",
   "execution_count": 5,
   "metadata": {},
   "outputs": [
    {
     "data": {
      "text/plain": [
       "[0, 1, 1, 2, 1, 2, 2, 3, 1, 2, 2]"
      ]
     },
     "execution_count": 5,
     "metadata": {},
     "output_type": "execute_result"
    }
   ],
   "source": [
    "Sol.countBits(10)"
   ]
  }
 ],
 "metadata": {
  "kernelspec": {
   "display_name": "Python 3",
   "language": "python",
   "name": "python3"
  },
  "language_info": {
   "codemirror_mode": {
    "name": "ipython",
    "version": 3
   },
   "file_extension": ".py",
   "mimetype": "text/x-python",
   "name": "python",
   "nbconvert_exporter": "python",
   "pygments_lexer": "ipython3",
   "version": "3.5.5"
  }
 },
 "nbformat": 4,
 "nbformat_minor": 2
}
