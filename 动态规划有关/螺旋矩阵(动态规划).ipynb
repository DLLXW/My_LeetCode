{
 "cells": [
  {
   "cell_type": "raw",
   "metadata": {},
   "source": [
    "给定一个包含 m x n 个元素的矩阵（m 行, n 列），请按照顺时针螺旋顺序，返回矩阵中的所有元素。\n",
    "\n",
    "示例 1:\n",
    "\n",
    "输入:\n",
    "[\n",
    " [ 1, 2, 3 ],\n",
    " [ 4, 5, 6 ],\n",
    " [ 7, 8, 9 ]\n",
    "]\n",
    "输出: [1,2,3,6,9,8,7,4,5]\n"
   ]
  },
  {
   "cell_type": "raw",
   "metadata": {},
   "source": [
    "思路：\n",
    "    很容易想到利用动态规划的思想来搞定，状态转移方程也很好写\n",
    "    整个螺旋不过是一个又一个剥去外圈的子矩阵的外圈顺时针的拼接\n",
    "    所以定义两个函数：\n",
    "        一个用于求取矩阵的外圈顺时针(SunSZ)\n",
    "        一个用于剥去外圈得到子矩阵(Sub_mat)\n",
    "    程序出口：输入矩阵为[]，return []\n",
    "    状态转移方程:\n",
    "            SunSZ(matrix)+spiralOrder(sub)\n",
    "        "
   ]
  },
  {
   "cell_type": "code",
   "execution_count": 44,
   "metadata": {},
   "outputs": [],
   "source": [
    "'''\n",
    "执行用时 : 16 ms, 在Spiral Matrix的Python提交中击败了98.69% 的用户\n",
    "内存消耗 : 11.7 MB, 在Spiral Matrix的Python提交中击败了29.35% 的用户\n",
    "'''\n",
    "def spiralOrder(matrix):\n",
    "    if matrix==[]:     #程序出口\n",
    "        return []\n",
    "    sub=Sub_mat(matrix)     #子问题，求得子矩阵\n",
    "    return SunSZ(matrix)+spiralOrder(sub) #状态转移方程\n",
    "\n",
    "def SunSZ(mat): #定义一个矩阵的外圈顺时针求取\n",
    "    n=len(mat)\n",
    "    m=len(mat[0]) #m==1表示为列向量的情况，单独处理\n",
    "    lis=mat[0]\n",
    "    if n==1:\n",
    "        return lis\n",
    "    if m==1:\n",
    "        temp=[]\n",
    "        for i in range(n):\n",
    "            temp.append(mat[i][0])\n",
    "        return temp\n",
    "    for i in range(1,n-1):\n",
    "        lis.append(mat[i][-1])\n",
    "    lis=lis+list(reversed(mat[n-1]))\n",
    "    for i in range(n-2,0,-1):\n",
    "        lis.append(mat[i][0])\n",
    "    return lis\n",
    "def Sub_mat(mat): #求取子矩阵，去掉一个矩阵的外圈\n",
    "    n=len(mat)\n",
    "    m=len(mat[0])\n",
    "    if m<3 or n<3:       #严格讲，m<3 or n<3的子矩阵都该为空\n",
    "        return []\n",
    "    submat=[]\n",
    "    for i in range(1,n-1):\n",
    "        submat.append(mat[i][1:-1])\n",
    "    return submat"
   ]
  },
  {
   "cell_type": "code",
   "execution_count": 45,
   "metadata": {},
   "outputs": [
    {
     "data": {
      "text/plain": [
       "[1, 2, 3, 4, 8, 12, 11, 10, 9, 5, 6, 7]"
      ]
     },
     "execution_count": 45,
     "metadata": {},
     "output_type": "execute_result"
    }
   ],
   "source": [
    "spiralOrder([[1,2,3,4],[5,6,7,8],[9,10,11,12]])"
   ]
  },
  {
   "cell_type": "code",
   "execution_count": 46,
   "metadata": {},
   "outputs": [
    {
     "data": {
      "text/plain": [
       "[1, 11, 12, 13, 14, 15, 16, 17, 18, 19, 20, 10, 9, 8, 7, 6, 5, 4, 3, 2]"
      ]
     },
     "execution_count": 46,
     "metadata": {},
     "output_type": "execute_result"
    }
   ],
   "source": [
    "spiralOrder([[1,11],[2,12],[3,13],[4,14],[5,15],[6,16],[7,17],[8,18],[9,19],[10,20]])"
   ]
  }
 ],
 "metadata": {
  "kernelspec": {
   "display_name": "Python 3",
   "language": "python",
   "name": "python3"
  },
  "language_info": {
   "codemirror_mode": {
    "name": "ipython",
    "version": 3
   },
   "file_extension": ".py",
   "mimetype": "text/x-python",
   "name": "python",
   "nbconvert_exporter": "python",
   "pygments_lexer": "ipython3",
   "version": "3.5.5"
  }
 },
 "nbformat": 4,
 "nbformat_minor": 2
}
