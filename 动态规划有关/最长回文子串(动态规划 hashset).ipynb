{
 "cells": [
  {
   "cell_type": "markdown",
   "metadata": {},
   "source": [
    "# 最长回文子串"
   ]
  },
  {
   "cell_type": "markdown",
   "metadata": {},
   "source": [
    "给定一个字符串 s，找到 s 中最长的回文子串。你可以假设 s 的最大长度为 1000。\n",
    "\n",
    "示例 1：\n",
    "\n",
    "输入: \"babad\"\n",
    "输出: \"bab\"\n",
    "注意: \"aba\" 也是一个有效答案。\n",
    "\n",
    "示例 2：\n",
    "\n",
    "输入: \"cbbd\"\n",
    "输出: \"bb\"\n"
   ]
  },
  {
   "cell_type": "raw",
   "metadata": {},
   "source": [
    "思路一：\n",
    "    从中间往两端扩展：\n",
    "    1:找到最长奇回文，中心:1,2,3....\n",
    "    2:找到最长的偶回文,中心：0.5,1.5..... \n",
    "    边界处理(回文包含第一个字符和最后一个字符的情况)"
   ]
  },
  {
   "cell_type": "code",
   "execution_count": 8,
   "metadata": {},
   "outputs": [],
   "source": [
    "class Solution:\n",
    "    def longestPalindrome(self, s: str) -> str:\n",
    "        \n",
    "        s1=s\n",
    "        s=list(s)\n",
    "        Len=len(s)\n",
    "        if Len==0:\n",
    "            return ''\n",
    "        if Len==1:\n",
    "            return s1\n",
    "        if Len==2:\n",
    "            if s[0]==s[1]:\n",
    "                return s1\n",
    "            else:\n",
    "                return s[0]\n",
    "            \n",
    "        even=[]\n",
    "        odd=[]\n",
    "       \n",
    "        for i in range(1,Len):\n",
    "            j=1\n",
    "            while i-j>-1 and i+j<Len:\n",
    "                if s[i+j]!=s[i-j]:\n",
    "                    odd.append(2*j-1)\n",
    "                    break\n",
    "                else:\n",
    "                    if (i+j==Len-1) | (i-j==0):\n",
    "                        odd.append(2*j+1)\n",
    "                        break\n",
    "                    else:\n",
    "                        j=j+1\n",
    "        \n",
    "        for i in range(Len):\n",
    "            i=i+0.5\n",
    "            j=0.5\n",
    "            while i-j>-1 and i+j<Len:\n",
    "                if s[int(i+j)]!=s[int(i-j)]:\n",
    "                    even.append(2*(j-0.5))\n",
    "                    break\n",
    "                else:\n",
    "                    if (int(i+j)==Len-1) | (int(i-j)==0):\n",
    "                        even.append(2*j+1)\n",
    "                        break\n",
    "                    else:\n",
    "                        j=j+1\n",
    "                \n",
    "        \n",
    "        e=max(even)\n",
    "        o=max(odd)\n",
    "        if e<o:\n",
    "            index=odd.index(o)\n",
    "           \n",
    "            return ''.join([i for i in s[index+1-int((o-1)/2):index+2+int((o-1)/2)]])\n",
    "        else:\n",
    "            index=even.index(e)\n",
    "            return ''.join([i for i in s[index-int((e/2-1)):index+int(e/2)+1]])"
   ]
  },
  {
   "cell_type": "code",
   "execution_count": 18,
   "metadata": {},
   "outputs": [],
   "source": [
    "s='abccba'"
   ]
  },
  {
   "cell_type": "code",
   "execution_count": 19,
   "metadata": {},
   "outputs": [],
   "source": [
    "s1=s#备份字符串\n",
    "Len=len(s)#"
   ]
  },
  {
   "cell_type": "markdown",
   "metadata": {},
   "source": [
    "# 特殊输入处理"
   ]
  },
  {
   "cell_type": "code",
   "execution_count": 20,
   "metadata": {},
   "outputs": [],
   "source": [
    "if Len==0:\n",
    "    print ('')\n",
    "    if Len==1:\n",
    "        print(s1)\n",
    "    if Len==2:\n",
    "        if s[0]==s[1]:\n",
    "            print(s1) \n",
    "        else:\n",
    "            print(s[0])"
   ]
  },
  {
   "cell_type": "code",
   "execution_count": 21,
   "metadata": {},
   "outputs": [],
   "source": [
    "#维护两个list\n",
    "even=[]\n",
    "odd=[]"
   ]
  },
  {
   "cell_type": "markdown",
   "metadata": {},
   "source": [
    "# 找到奇数回文"
   ]
  },
  {
   "cell_type": "code",
   "execution_count": 22,
   "metadata": {},
   "outputs": [],
   "source": [
    "for i in range(1,Len): #从第二个元素开始\n",
    "    j=1\n",
    "    while i-j>-1 and i+j<Len: #注意这里的循环终止条件为什么是这样\n",
    "        if s[i+j]!=s[i-j]:\n",
    "            odd.append(2*j-1) #每检查一个中心点需要我们记录一个以该中心点展开的回文长度\n",
    "            break\n",
    "        else:\n",
    "            if (i+j==Len-1) | (i-j==0): #这里是为了应对那种回文包含了输入的第一个或者最后一个字符的情形\n",
    "                odd.append(2*j+1)\n",
    "                break\n",
    "            else:\n",
    "                j=j+1"
   ]
  },
  {
   "cell_type": "markdown",
   "metadata": {},
   "source": [
    "# 找到偶数回文"
   ]
  },
  {
   "cell_type": "code",
   "execution_count": 23,
   "metadata": {},
   "outputs": [],
   "source": [
    "for i in range(Len):\n",
    "    i=i+0.5\n",
    "    j=0.5\n",
    "    while i-j>-1 and i+j<Len:\n",
    "        if s[int(i+j)]!=s[int(i-j)]:\n",
    "            even.append(2*(j-0.5))\n",
    "            break\n",
    "        else:\n",
    "            if (int(i+j)==Len-1) | (int(i-j)==0):\n",
    "                even.append(2*j+1)\n",
    "                break\n",
    "            else:\n",
    "                j=j+1"
   ]
  },
  {
   "cell_type": "code",
   "execution_count": 24,
   "metadata": {},
   "outputs": [
    {
     "data": {
      "text/plain": [
       "[0.0, 0.0, 6.0, 0.0, 0.0]"
      ]
     },
     "execution_count": 24,
     "metadata": {},
     "output_type": "execute_result"
    }
   ],
   "source": [
    "even"
   ]
  },
  {
   "cell_type": "code",
   "execution_count": 25,
   "metadata": {},
   "outputs": [
    {
     "name": "stdout",
     "output_type": "stream",
     "text": [
      "abccba\n"
     ]
    }
   ],
   "source": [
    "e=max(even)\n",
    "o=max(odd)\n",
    "if e<o:\n",
    "    index=odd.index(o)     \n",
    "    print(''.join([i for i in s[index+1-int((o-1)/2):index+2+int((o-1)/2)]]))\n",
    "else:\n",
    "    index=even.index(e)\n",
    "    print(''.join([i for i in s[index-int((e/2-1)):index+int(e/2)+1]]))"
   ]
  }
 ],
 "metadata": {
  "kernelspec": {
   "display_name": "Python 3",
   "language": "python",
   "name": "python3"
  },
  "language_info": {
   "codemirror_mode": {
    "name": "ipython",
    "version": 3
   },
   "file_extension": ".py",
   "mimetype": "text/x-python",
   "name": "python",
   "nbconvert_exporter": "python",
   "pygments_lexer": "ipython3",
   "version": "3.5.5"
  }
 },
 "nbformat": 4,
 "nbformat_minor": 2
}
