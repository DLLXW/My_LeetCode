{
 "cells": [
  {
   "cell_type": "code",
   "execution_count": 1,
   "metadata": {},
   "outputs": [
    {
     "name": "stdout",
     "output_type": "stream",
     "text": [
      "[-2, 2, 3, 4, 7, 10, 18, 18, 23, 37, 42]\n"
     ]
    }
   ],
   "source": [
    "\n",
    "import os\n",
    "import sys\n",
    "\n",
    "#构建堆\n",
    "def creat_heap(list):\n",
    "    for i in range(len(list)//2-1,-1,-1):\n",
    "        sink(list,i)\n",
    "    return list[0]\n",
    "\n",
    "def sink(list,root):    #下沉操作\n",
    "    if 2*root+1 < len(list):  #左子结点\n",
    "        #取左右结点中小的那个\n",
    "        k = 2*root+2 if 2*root+2 < len(list) and list[2*root+2] < list[2*root+1] else 2*root+1  \n",
    "        #让k成为较小的子节点的index\n",
    "        if list[root] > list[k]:\n",
    "            (list[root],list[k]) = (list[k],list[root])     #交换值\n",
    "            sink(list,k)              #对子节点为根节点的子树建堆\n",
    "#堆排序\n",
    "def sort_heap(list):\n",
    "    sorted_list=[]\n",
    "    while list!=[]:\n",
    "        sorted_list.append(creat_heap(list))\n",
    "        list.pop(0)\n",
    "    return sorted_list\n",
    "if __name__ == \"__main__\":\n",
    "    list = [10, 18, -2, 3, 7, 4, 18, 23, 42, 37, 2]\n",
    "    sorted_list=sort_heap(list)\n",
    "    print(sorted_list)"
   ]
  },
  {
   "cell_type": "code",
   "execution_count": 6,
   "metadata": {},
   "outputs": [
    {
     "data": {
      "text/plain": [
       "[1, 2, 3, 4, 5]"
      ]
     },
     "execution_count": 6,
     "metadata": {},
     "output_type": "execute_result"
    }
   ],
   "source": [
    "a=[4,2,1,3,5]\n",
    "a=sorted(a)\n",
    "a"
   ]
  },
  {
   "cell_type": "code",
   "execution_count": null,
   "metadata": {},
   "outputs": [],
   "source": []
  }
 ],
 "metadata": {
  "kernelspec": {
   "display_name": "Python 3",
   "language": "python",
   "name": "python3"
  },
  "language_info": {
   "codemirror_mode": {
    "name": "ipython",
    "version": 3
   },
   "file_extension": ".py",
   "mimetype": "text/x-python",
   "name": "python",
   "nbconvert_exporter": "python",
   "pygments_lexer": "ipython3",
   "version": "3.5.5"
  }
 },
 "nbformat": 4,
 "nbformat_minor": 2
}
