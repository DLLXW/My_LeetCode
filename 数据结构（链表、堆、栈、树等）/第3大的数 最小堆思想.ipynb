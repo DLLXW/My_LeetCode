{
 "cells": [
  {
   "cell_type": "raw",
   "metadata": {},
   "source": [
    "给定一个非空数组，返回此数组中第三大的数。如果不存在，则返回数组中最大的数。要求算法时间复杂度必须是O(n)。\n",
    "\n",
    "示例 1:\n",
    "\n",
    "输入: [3, 2, 1]\n",
    "\n",
    "输出: 1\n",
    "\n",
    "解释: 第三大的数是 1.\n"
   ]
  },
  {
   "cell_type": "markdown",
   "metadata": {},
   "source": [
    "# 思路：利用最小堆的思想\n",
    "    此题还是沿用堆的思想，和找Topk大的数不同，这里给定了找第3大的数，需要加上去重处理，时间复杂度要求为n\n",
    "    维护一个一个大小为3的数组，保持里面第一个元素为3个中的最小值（理解为堆顶），并且3个元素各不相同。从第i=4个开始循环，比较nums[i]与堆顶的大小，若更大，则取代顶的位置，再比较三个元素的大小，将最小的置最前，i++\n",
    "    三个数字的排序时间为常数，时间复杂度主要在于一次遍历，因此为O(n)\n",
    "    特殊情况的处理很关键，\n",
    "    去重！！！！"
   ]
  },
  {
   "cell_type": "code",
   "execution_count": 36,
   "metadata": {},
   "outputs": [],
   "source": [
    "class Solution(object):\n",
    "    def thirdMax(self, nums):\n",
    "        Len=len(nums)\n",
    "        \n",
    "        #特殊情形处理\n",
    "        if Len<3:\n",
    "            return max(nums)\n",
    "        if Len==3:\n",
    "            if nums[0]==nums[1] or nums[0]==nums[2] or nums[1]==nums[2]:\n",
    "                return max(nums)\n",
    "            else:\n",
    "                return min(nums)\n",
    "        re=[nums[0]]\n",
    "        i=0\n",
    "        while len(re)<3 and i<Len-1:\n",
    "            i=i+1\n",
    "            if nums[i] not in re:\n",
    "                re.append(nums[i])\n",
    "        if i==Len-1:\n",
    "            if len(re)==3:\n",
    "                return re.sort()[0]\n",
    "            else:\n",
    "                return max(re)\n",
    "        \n",
    "        #特殊情形处理\n",
    "        \n",
    "        #核心代码\n",
    "        re.sort()\n",
    "        for j in range(i+1,Len):   \n",
    "            print(1,re)\n",
    "            if nums[j]>re[0] and nums[j] not in re:  #这个条件很重要，涉及到去重\n",
    "                re[0]=nums[j]\n",
    "            re.sort()\n",
    "        return re[0]"
   ]
  },
  {
   "cell_type": "code",
   "execution_count": 37,
   "metadata": {},
   "outputs": [],
   "source": [
    "so=Solution()"
   ]
  },
  {
   "cell_type": "code",
   "execution_count": 41,
   "metadata": {},
   "outputs": [
    {
     "name": "stdout",
     "output_type": "stream",
     "text": [
      "1 [1, 2, 6]\n",
      "1 [2, 6, 7]\n",
      "1 [2, 6, 7]\n",
      "1 [6, 7, 8]\n",
      "1 [6, 7, 8]\n",
      "1 [6, 7, 8]\n"
     ]
    },
    {
     "data": {
      "text/plain": [
       "6"
      ]
     },
     "execution_count": 41,
     "metadata": {},
     "output_type": "execute_result"
    }
   ],
   "source": [
    "so.thirdMax([1,2,6,7,7,8,4,5,6])"
   ]
  },
  {
   "cell_type": "code",
   "execution_count": null,
   "metadata": {},
   "outputs": [],
   "source": []
  }
 ],
 "metadata": {
  "kernelspec": {
   "display_name": "Python 3",
   "language": "python",
   "name": "python3"
  },
  "language_info": {
   "codemirror_mode": {
    "name": "ipython",
    "version": 3
   },
   "file_extension": ".py",
   "mimetype": "text/x-python",
   "name": "python",
   "nbconvert_exporter": "python",
   "pygments_lexer": "ipython3",
   "version": "3.5.5"
  }
 },
 "nbformat": 4,
 "nbformat_minor": 2
}
