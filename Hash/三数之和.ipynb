{
 "cells": [
  {
   "cell_type": "markdown",
   "metadata": {},
   "source": [
    "# 三数之和"
   ]
  },
  {
   "cell_type": "raw",
   "metadata": {},
   "source": [
    "给定一个包含 n 个整数的数组 nums，判断 nums 中是否存在三个元素 a，b，c ，使得 a + b + c = 0 ？找出所有满足条件且不重复的三元组。\n",
    "\n",
    "注意：答案中不可以包含重复的三元组。\n",
    "\n",
    "例如, 给定数组 nums = [-1, 0, 1, 2, -1, -4]，\n",
    "\n",
    "满足要求的三元组集合为：\n",
    "[\n",
    "  [-1, 0, 1],\n",
    "  [-1, -1, 2]\n",
    "]\n",
    "\n"
   ]
  },
  {
   "cell_type": "raw",
   "metadata": {},
   "source": [
    "思路：\n",
    "\n",
    "    完全可以沿用两数之和的思想，现在相当于多了一个阶次而已：\n",
    "    遍历nums, 相当于求Twosum(nums,target=-nums[i]) Twosum返回的不是下表而是具体num,\n",
    "    \n",
    "    "
   ]
  },
  {
   "cell_type": "raw",
   "metadata": {},
   "source": [
    "Twosum思路：\n",
    "    \n",
    "    利用hashMAP思想，在python里面的话当然是利用字典实现\n",
    "    但这种方法有可以衍生出来两种思路：\n",
    "    \n",
    "    1:先建立字典，然后判断，需要两遍  O(2*n)\n",
    "    这种思路的一个突出问题在于建立字典的时候要考虑冲突，因为形如：nums=[1,2,3,1],target=2 正确输出[0,3]\n",
    "    如果不处理冲突，则不好解决。在查找的时候:\n",
    "    if target-num[i]=nums[i],则需要考虑nums中是否存在第二个nums[i] #这算是一种需要注意的特殊情况\n",
    "    \n",
    "    2:边建字典边查找，通过python枚举类enumerate\n",
    "        如果target-num in dic，则直接返回两个数的位置\n",
    "        否则将num加入dic\n",
    "    "
   ]
  },
  {
   "cell_type": "code",
   "execution_count": 24,
   "metadata": {
    "collapsed": true
   },
   "outputs": [],
   "source": [
    "class Solution(object):\n",
    "    def ThreeSum(self, nums):\n",
    "        Len=len(nums)\n",
    "        if Len<3:\n",
    "            return [[]]\n",
    "        List_re=[]\n",
    "        set_re=[]       #维护一个返回值元素所组成的集合,所组成的列表.\n",
    "        for i in range(Len):\n",
    "            N_dict={}\n",
    "            ls=[]\n",
    "            for c,num in enumerate (nums):\n",
    "                val=-nums[i]-num\n",
    "                if c!=i:\n",
    "                    if val in  N_dict:\n",
    "                        re=[nums[i],num,val]\n",
    "                        if set(re) not in set_re:\n",
    "                            set_re.append(set(re))\n",
    "                            List_re.append(re)\n",
    "                    N_dict[num]=c\n",
    "        return List_re\n",
    "##这种解法虽然没有定义两个函数那么直观，但比较简洁，而且是边查重边往后走，但是还是卡在了超时的问题上面\n",
    "So=Solution()              "
   ]
  },
  {
   "cell_type": "code",
   "execution_count": 25,
   "metadata": {
    "collapsed": true
   },
   "outputs": [],
   "source": [
    "a=So.ThreeSum( [-1, 0, 1, 2, -1, -4])"
   ]
  },
  {
   "cell_type": "code",
   "execution_count": 26,
   "metadata": {},
   "outputs": [
    {
     "data": {
      "text/plain": [
       "[[-1, 1, 0], [-1, -1, 2]]"
      ]
     },
     "execution_count": 26,
     "metadata": {},
     "output_type": "execute_result"
    }
   ],
   "source": [
    "a"
   ]
  },
  {
   "cell_type": "code",
   "execution_count": 10,
   "metadata": {
    "collapsed": true
   },
   "outputs": [],
   "source": [
    "class Solution(object):\n",
    "    def ThreeSum(self, nums):\n",
    "        Len=len(nums)\n",
    "        if Len<3:\n",
    "            return [[]]\n",
    "        List2=[]\n",
    "        set_re=[] #维护一个返回值元素所组成的集合,所组成的列表.\n",
    "        for i in range(Len):\n",
    "            target=-nums[i]\n",
    "            re=self.TwoSum(i,nums,target)\n",
    "            if re is not None:\n",
    "                for k in range(len(re)):\n",
    "                    if set(re[k][0:3]) not in set_re:\n",
    "                        set_re.append(set(re[k][0:3]))\n",
    "                        List2.append(re[k][0:3])\n",
    "        return List2\n",
    "    def TwoSum(self,k,nums,target):\n",
    "        N_dict={}\n",
    "        ls=[]\n",
    "        for i,num in enumerate (nums):\n",
    "            val=target-num\n",
    "            if i!=k:\n",
    "                if val in  N_dict:\n",
    "                    ls.append([-target,num,val])\n",
    "                N_dict[num]=i\n",
    "        return ls\n",
    "    \n",
    "So=Solution()              "
   ]
  },
  {
   "cell_type": "code",
   "execution_count": 11,
   "metadata": {
    "collapsed": true
   },
   "outputs": [],
   "source": [
    "a=So.ThreeSum( [-1, 0, 1, 2, -1, -4])"
   ]
  }
 ],
 "metadata": {
  "kernelspec": {
   "display_name": "Python 3",
   "language": "python",
   "name": "python3"
  },
  "language_info": {
   "codemirror_mode": {
    "name": "ipython",
    "version": 3
   },
   "file_extension": ".py",
   "mimetype": "text/x-python",
   "name": "python",
   "nbconvert_exporter": "python",
   "pygments_lexer": "ipython3",
   "version": "3.6.2"
  }
 },
 "nbformat": 4,
 "nbformat_minor": 2
}
