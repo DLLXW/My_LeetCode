{
 "cells": [
  {
   "cell_type": "markdown",
   "metadata": {},
   "source": [
    "# 两数之和"
   ]
  },
  {
   "cell_type": "raw",
   "metadata": {},
   "source": [
    "给定一个整数数组 nums 和一个目标值 target，请你在该数组中找出和为目标值的那 两个 整数，并返回他们的数组下标。\n",
    "\n",
    "你可以假设每种输入只会对应一个答案。但是，你不能重复利用这个数组中同样的元素。\n",
    "\n",
    "示例:\n",
    "\n",
    "给定 nums = [2, 7, 11, 15], target = 9\n",
    "\n",
    "因为 nums[0] + nums[1] = 2 + 7 = 9\n",
    "所以返回 [0, 1]\n",
    "\n"
   ]
  },
  {
   "cell_type": "raw",
   "metadata": {},
   "source": [
    "思路一：\n",
    "\n",
    "    暴力穷举：遍历数组，target-nums[i]是否在Nums[i:length]   O(n^2)\n",
    "    \n",
    "    "
   ]
  },
  {
   "cell_type": "raw",
   "metadata": {},
   "source": [
    "思路二：\n",
    "    \n",
    "    改进方法：查找需要消耗O(n)，因此想到在查找的时候优化，利用hashMAP思想，在python里面的话当然是利用字典实现\n",
    "    但这种方法有可以衍生出来两种思路：\n",
    "    \n",
    "    1:先建立字典，然后判断，需要两遍  O(2*n)\n",
    "    这种思路的一个突出问题在于建立字典的时候要考虑冲突，因为形如：nums=[1,2,3,1],target=2 正确输出[0,3]\n",
    "    如果不处理冲突，则不好解决。在查找的时候:\n",
    "    if target-num[i]=nums[i],则需要考虑nums中是否存在第二个nums[i] #这算是一种需要注意的特殊情况\n",
    "    \n",
    "    2:边建字典边查找，通过python枚举类enumerate\n",
    "        如果target-num in dic，则直接返回两个数的位置\n",
    "        否则将num加入dic\n",
    "       （十分巧妙和完美的解法）\n",
    "    "
   ]
  },
  {
   "cell_type": "code",
   "execution_count": 1,
   "metadata": {},
   "outputs": [],
   "source": [
    "class Solution(object):\n",
    "    def twoSum(self, nums, target):\n",
    "        \"\"\"\n",
    "        :type nums: List[int]\n",
    "        :type target: int\n",
    "        :rtype: List[int]\n",
    "        \"\"\"\n",
    "        ##这种解法巧妙之处在于边建hashmap,边判断（一遍hash表）\n",
    "        N_dict={}\n",
    "        for i,num in enumerate (nums):\n",
    "            val=target-num\n",
    "            if val in  N_dict:\n",
    "                return [N_dict[val],i]\n",
    "            else:\n",
    "                N_dict[num]=i\n",
    "                "
   ]
  },
  {
   "cell_type": "code",
   "execution_count": 2,
   "metadata": {},
   "outputs": [],
   "source": [
    "So=Solution()"
   ]
  },
  {
   "cell_type": "code",
   "execution_count": 3,
   "metadata": {},
   "outputs": [
    {
     "data": {
      "text/plain": [
       "[0, 3]"
      ]
     },
     "execution_count": 3,
     "metadata": {},
     "output_type": "execute_result"
    }
   ],
   "source": [
    "So.twoSum([2,4,6,5,3,7],7)"
   ]
  },
  {
   "cell_type": "code",
   "execution_count": 7,
   "metadata": {},
   "outputs": [],
   "source": [
    "class Solution:\n",
    "    def twoSum(self, nums,target):\n",
    "        #最好的方法是构建一个hash表，方便查找，在python里面的话直接利用字典。\n",
    "        #假如原数组有重复值，构建字典的时候一定会遇到冲突。\n",
    "        #针对重复值要特殊处理\n",
    "        dic={}\n",
    "        for i in range(len(nums)):\n",
    "            if nums[i] not in dic:\n",
    "                dic[nums[i]]=[] #每一个键的值都先定义为一个空列表\n",
    "            dic[nums[i]].append(i)\n",
    "        #到这里其实已经构造好了一个能处理重复值冲突的HashMap，hash函数只是一个简单恒等映射\n",
    "        #并没有用到什么复杂的哈希函数。处理冲突(利用链地址法的思想)\n",
    "        print(dic)\n",
    "        for i in range(len(nums)):\n",
    "            re=target-nums[i]\n",
    "            if re in dic:\n",
    "                if re!=nums[i] :\n",
    "                    return [i,dic[re][0]] \n",
    "                else:\n",
    "                    if len(dic[nums[i]])>1:\n",
    "                        return dic[nums[i]]\n",
    "Sol=Solution()"
   ]
  },
  {
   "cell_type": "code",
   "execution_count": 8,
   "metadata": {},
   "outputs": [
    {
     "name": "stdout",
     "output_type": "stream",
     "text": [
      "{1: [0], 2: [2, 5], 3: [1], 5: [3], 7: [4]}\n"
     ]
    },
    {
     "data": {
      "text/plain": [
       "[1, 4]"
      ]
     },
     "execution_count": 8,
     "metadata": {},
     "output_type": "execute_result"
    }
   ],
   "source": [
    "Sol.twoSum([1,3,2,5,7,2],10)   "
   ]
  },
  {
   "cell_type": "code",
   "execution_count": 9,
   "metadata": {},
   "outputs": [
    {
     "name": "stdout",
     "output_type": "stream",
     "text": [
      "{2: [2, 5], 3: [0, 1], 5: [3], 7: [4]}\n"
     ]
    },
    {
     "data": {
      "text/plain": [
       "[2, 5]"
      ]
     },
     "execution_count": 9,
     "metadata": {},
     "output_type": "execute_result"
    }
   ],
   "source": [
    "Sol.twoSum([3,3,2,5,7,2],4)"
   ]
  },
  {
   "cell_type": "code",
   "execution_count": null,
   "metadata": {},
   "outputs": [],
   "source": []
  }
 ],
 "metadata": {
  "kernelspec": {
   "display_name": "Python 3",
   "language": "python",
   "name": "python3"
  },
  "language_info": {
   "codemirror_mode": {
    "name": "ipython",
    "version": 3
   },
   "file_extension": ".py",
   "mimetype": "text/x-python",
   "name": "python",
   "nbconvert_exporter": "python",
   "pygments_lexer": "ipython3",
   "version": "3.5.5"
  }
 },
 "nbformat": 4,
 "nbformat_minor": 2
}
