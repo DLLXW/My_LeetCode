{
 "cells": [
  {
   "cell_type": "markdown",
   "metadata": {},
   "source": [
    "# 无重复字符的最长子串"
   ]
  },
  {
   "cell_type": "raw",
   "metadata": {},
   "source": [
    "给定一个字符串，请你找出其中不含有重复字符的 最长子串 的长度。\n",
    "\n",
    "示例 1:\n",
    "\n",
    "输入: \"abcabcbb\"\n",
    "输出: 3 \n",
    "解释: 因为无重复字符的最长子串是 \"abc\"，所以其长度为 3。\n",
    "\n",
    "示例 2:\n",
    "\n",
    "输入: \"bbbbb\"\n",
    "输出: 1\n",
    "解释: 因为无重复字符的最长子串是 \"b\"，所以其长度为 1。\n"
   ]
  },
  {
   "cell_type": "markdown",
   "metadata": {},
   "source": [
    "\n",
    "\n",
    "\n",
    "\n"
   ]
  },
  {
   "cell_type": "raw",
   "metadata": {},
   "source": [
    "思路一：\n",
    "\n",
    "     暴力搜索：i in [0,len(s)] j in [i+1,len(s)],这样找出了所有的子字符串，每得出的一个子字符串，我们来判断它是否含有重复字符如果没有，比较它的长度和目前维护的最长的重复子字符串长度\n",
    "     这样做的时间复杂度会比较高：找子字符串的O(n^2),判断是否含有重复又需要O(n)，总共O(n^3）\n",
    "     \n"
   ]
  },
  {
   "cell_type": "raw",
   "metadata": {},
   "source": [
    "思路二：\n",
    "\n",
    "     在暴力求解的基础上，我们不妨优化它的查找重复的时间，查找部分利用hashMap的思想，在python里面的话直接可以利用字典来进行这个操作！查找时间复杂度O(n)\n"
   ]
  },
  {
   "cell_type": "raw",
   "metadata": {},
   "source": [
    "思路三：\n",
    "\n",
    "    进一步思考，对于每一个以i开头的子字符串，j++来拓展子字符串的结尾，自然想到，如果在一次以i为开头的搜索中，j从i+1开始一直找到某个j处该子串发生重复，那么我们在进行下一个i=i+1开头的子字符串的搜索中，j不必从i+1开始，直接可以跳到上一次重复的地方进行搜索！\n",
    "    \n",
    "   ！！！需要注意边界情况，当某个j已经到了末尾，接下来的i都不用遍历（i+1）了，因为后面肯定不会再有比目前的i开头的子字符串还长的子串！！！！\n",
    "   \n",
    "     这样，时间复杂度应该可以降低到O(n~n^2)"
   ]
  },
  {
   "cell_type": "code",
   "execution_count": 1,
   "metadata": {},
   "outputs": [],
   "source": [
    "class Solution:\n",
    "    def lengthOfLongestSubstring(self, s):\n",
    "        res=0                          #维护一个当前找到的最长的无重复子串\n",
    "        i=0\n",
    "        s.replace(' ','0')\n",
    "        if len(s)==1:\n",
    "            return 1\n",
    "        while(i<len(s)):\n",
    "            dic={}\n",
    "            dic[s[i]]=1\n",
    "            for j in range(i+1,len(s)): #边建立字典边检查是否重复\n",
    "                if  s[j] in dic:       #如果这个元素在字典中，则表示发生重复，这时记录子串长度来更新维护的最长长度\n",
    "                    res=max(len(dic),res)\n",
    "                    break\n",
    "                else:\n",
    "                    dic[s[j]]=1      #不在字典中，加入字典即可\n",
    "            if j==len(s)-1:\n",
    "                res=max(res,len(dic)) #需要注意边界情况，当某个j已经到了末尾，接下来的i都不用遍历了，肯定不会比目前的i开头的长\n",
    "            i=i+1\n",
    "        return res\n",
    "                    "
   ]
  },
  {
   "cell_type": "code",
   "execution_count": 2,
   "metadata": {},
   "outputs": [],
   "source": [
    "So=Solution()"
   ]
  },
  {
   "cell_type": "code",
   "execution_count": 4,
   "metadata": {},
   "outputs": [
    {
     "data": {
      "text/plain": [
       "4"
      ]
     },
     "execution_count": 4,
     "metadata": {},
     "output_type": "execute_result"
    }
   ],
   "source": [
    "So.lengthOfLongestSubstring('asdfdgs')"
   ]
  }
 ],
 "metadata": {
  "kernelspec": {
   "display_name": "Python 3",
   "language": "python",
   "name": "python3"
  },
  "language_info": {
   "codemirror_mode": {
    "name": "ipython",
    "version": 3
   },
   "file_extension": ".py",
   "mimetype": "text/x-python",
   "name": "python",
   "nbconvert_exporter": "python",
   "pygments_lexer": "ipython3",
   "version": "3.5.5"
  }
 },
 "nbformat": 4,
 "nbformat_minor": 2
}
