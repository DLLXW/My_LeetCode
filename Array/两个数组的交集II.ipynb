{
 "cells": [
  {
   "cell_type": "markdown",
   "metadata": {},
   "source": [
    "# 两个数组的交集II"
   ]
  },
  {
   "cell_type": "raw",
   "metadata": {},
   "source": [
    "给定两个数组，编写一个函数来计算它们的交集。\n",
    "\n",
    "示例 1:\n",
    "\n",
    "输入: nums1 = [1,2,2,1], nums2 = [2,2]\n",
    "输出: [2,2]\n",
    "\n",
    "示例 2:\n",
    "\n",
    "输入: nums1 = [4,9,5], nums2 = [9,4,9,8,4]\n",
    "输出: [4,9]\n",
    "\n",
    "说明：\n",
    "\n",
    "    输出结果中每个元素出现的次数，应与元素在两个数组中出现的次数一致。\n",
    "    我们可以不考虑输出结果的顺序"
   ]
  },
  {
   "cell_type": "raw",
   "metadata": {},
   "source": [
    "思路：\n",
    "    这个和前面两个数组交集I不同的地方在于，这个需要考虑出现的元素出现的次数\n",
    "    \n",
    "    仍然延用前面的方法，利用字典，但是由于需要考虑出现次数，那就需要建立两个字典，而字典的值可以用来存放数组元素(字典key)出现的次数。\n",
    "    \n",
    "    这样比较两个字典的key是否相等，如果相等，则找到value小的那一个,append进入所维护的列表dic"
   ]
  },
  {
   "cell_type": "code",
   "execution_count": 3,
   "metadata": {},
   "outputs": [],
   "source": [
    "class Solution:\n",
    "    def intersect(self, nums1,nums2):\n",
    "        dic1={}\n",
    "        dic2={}\n",
    "        lis=[]\n",
    "        l1=len(nums1)\n",
    "        l2=len(nums2)\n",
    "        ##首先建立两个字典\n",
    "        for i in range(max(l1,l2)):\n",
    "            if i<l1:\n",
    "                if nums1[i] not in dic1:\n",
    "                    dic1[nums1[i]]=1\n",
    "                else:\n",
    "                    dic1[nums1[i]]=1+dic1[nums1[i]]\n",
    "            if i<l2:\n",
    "                if nums2[i] not in dic2:\n",
    "                    dic2[nums2[i]]=1\n",
    "                else:\n",
    "                    dic2[nums2[i]]=1+dic2[nums2[i]]\n",
    "        ##只需要比较两个字典中的元素即可\n",
    "        for key in dic1:\n",
    "            if key in dic2: \n",
    "                for i in range(min(dic1[key],dic2[key])):\n",
    "                    lis.append(key)\n",
    "        return lis"
   ]
  }
 ],
 "metadata": {
  "kernelspec": {
   "display_name": "Python 3",
   "language": "python",
   "name": "python3"
  },
  "language_info": {
   "codemirror_mode": {
    "name": "ipython",
    "version": 3
   },
   "file_extension": ".py",
   "mimetype": "text/x-python",
   "name": "python",
   "nbconvert_exporter": "python",
   "pygments_lexer": "ipython3",
   "version": "3.5.5"
  }
 },
 "nbformat": 4,
 "nbformat_minor": 2
}
