{
 "cells": [
  {
   "cell_type": "markdown",
   "metadata": {},
   "source": [
    "# 报数序列是一个整数序列，按照其中的整数的顺序进行报数，得到下一个数。其前五项如下：\n",
    "\n",
    "1.     1\n",
    "2.     11\n",
    "3.     21\n",
    "4.     1211\n",
    "5.     111221\n",
    "\n",
    "1 被读作  \"one 1\"  (\"一个一\") , 即 11。\n",
    "11 被读作 \"two 1s\" (\"两个一\"）, 即 21。\n",
    "21 被读作 \"one 2\",  \"one 1\" （\"一个二\" ,  \"一个一\") , 即 1211。\n",
    "\n",
    "给定一个正整数 n（1 ≤ n ≤ 30），输出报数序列的第 n 项。\n",
    "\n",
    "注意：整数顺序将表示为一个字符串。\n",
    "\n",
    " \n",
    "\n",
    "来源：力扣（LeetCode）\n",
    "链接：https://leetcode-cn.com/problems/count-and-say\n",
    "著作权归领扣网络所有。商业转载请联系官方授权，非商业转载请注明出处。"
   ]
  },
  {
   "cell_type": "code",
   "execution_count": null,
   "metadata": {},
   "outputs": [],
   "source": [
    "思路：\n",
    "    首先举个例子理解题意，对于4来说，观察3对应的输出为21，1个2和1个1，所以4对应的报数为1211\n",
    "    这样，自然可以想到利用递归的方式来求解第n个数对应的输出，主要需要解决的问题在于具体计数部分：\n",
    "    举例：也即给定：1112222112如何计数得 3个1,4个2,2个1,1个2\n",
    "        1112222112-->31422112\n",
    "    该计数一个while循环足以搞定： \n",
    "        必须用一个re变量维护当前计数时所在位置！！！(十分关键的一步）初始值为0\n",
    "                                \n",
    "        循环比较i和i+1对应的值，直到不等\n",
    "            开始计数：\n",
    "                保存当前记录的值的个数（当前位置i+1减去前一计数位置re）和记录的具体值\n",
    "            完成了一次计数\n",
    "        需要注意的是在计数前要给原字符串添加一个尾巴！！这是为了不漏掉最后一次计数\n",
    "     下面就是递归的处理了，终止条件,n==1\n",
    "\n",
    "（如果不用递归的思路，还可以采用一步步至底向上递推，这样更节约时间，但递归显得简洁明了）"
   ]
  },
  {
   "cell_type": "raw",
   "metadata": {},
   "source": [
    "执行用时 : 48 ms, 在Count and Say的Python3提交中击败了98.14% 的用户\n",
    "内存消耗 : 13.1 MB, 在Count and Say的Python3提交中击败了85.71% 的用户\n",
    "进行下一个挑战："
   ]
  },
  {
   "cell_type": "code",
   "execution_count": 66,
   "metadata": {},
   "outputs": [],
   "source": [
    "class Solution:\n",
    "    def countAndSay(self, n: int) -> str:\n",
    "        if n==1:\n",
    "            return \"1\"\n",
    "        return self.bs(self.countAndSay(n-1))\n",
    "    \n",
    "    def bs(self,string):\n",
    "        lis=list(string)\n",
    "        lis.append('0') #末尾补一个，方便后续计数\n",
    "        lis1=[]\n",
    "        re=0\n",
    "        i=0\n",
    "        while i<len(lis)-1:\n",
    "            if lis[i]!=lis[i+1]:\n",
    "                lis1.append(str(i+1-re)) #当前计录的值的个数\n",
    "                lis1.append(lis[i]) #当前记录的值\n",
    "                re=i+1         \n",
    "            i=i+1\n",
    "        s=''.join(lis1) #列表转字符串\n",
    "        return s"
   ]
  },
  {
   "cell_type": "code",
   "execution_count": 67,
   "metadata": {},
   "outputs": [
    {
     "data": {
      "text/plain": [
       "'13211311123113112211'"
      ]
     },
     "execution_count": 67,
     "metadata": {},
     "output_type": "execute_result"
    }
   ],
   "source": [
    "so=Solution()\n",
    "so.countAndSay(10)"
   ]
  },
  {
   "cell_type": "code",
   "execution_count": 69,
   "metadata": {},
   "outputs": [
    {
     "data": {
      "text/plain": [
       "True"
      ]
     },
     "execution_count": 69,
     "metadata": {},
     "output_type": "execute_result"
    }
   ],
   "source": [
    "1==1.0"
   ]
  },
  {
   "cell_type": "code",
   "execution_count": null,
   "metadata": {},
   "outputs": [],
   "source": []
  }
 ],
 "metadata": {
  "kernelspec": {
   "display_name": "Python 3",
   "language": "python",
   "name": "python3"
  },
  "language_info": {
   "codemirror_mode": {
    "name": "ipython",
    "version": 3
   },
   "file_extension": ".py",
   "mimetype": "text/x-python",
   "name": "python",
   "nbconvert_exporter": "python",
   "pygments_lexer": "ipython3",
   "version": "3.5.5"
  }
 },
 "nbformat": 4,
 "nbformat_minor": 2
}
