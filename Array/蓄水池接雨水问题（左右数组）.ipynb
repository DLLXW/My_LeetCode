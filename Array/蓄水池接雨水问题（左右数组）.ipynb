{
 "cells": [
  {
   "cell_type": "markdown",
   "metadata": {},
   "source": [
    "# 接雨水问题"
   ]
  },
  {
   "cell_type": "raw",
   "metadata": {},
   "source": [
    "给定 n 个非负整数表示每个宽度为 1 的柱子的高度图，计算按此排列的柱子，下雨之后能接多少雨水。\n",
    "\n",
    "\n",
    "输入: [0,1,0,2,1,0,1,3,2,1,2,1]\n",
    "输出: 6\n",
    "\n",
    "给定两个数组，编写一个函数来计算它们的交集。\n",
    "\n",
    "示例 1:\n",
    "\n",
    "输入: nums1 = [1,2,2,1], nums2 = [2,2]\n",
    "输出: [2]\n",
    "\n",
    "示例 2:\n",
    "\n",
    "输入: nums1 = [4,9,5], nums2 = [9,4,9,8,4]\n",
    "输出: [9,4]\n",
    "\n",
    "说明:\n",
    "\n",
    "    输出结果中的每个元素一定是唯一的。\n",
    "    我们可以不考虑输出结果的顺序。\n",
    "\n"
   ]
  },
  {
   "cell_type": "raw",
   "metadata": {},
   "source": [
    "思路：\n",
    "    整个能容纳的雨水数量可以由每个柱子所能接住的雨水求和得到，\n",
    "    每个柱子能接住的雨水又由该柱子的左边最高柱子max_l和右边最高柱子max_r决定    [左边数组+右边数组]\n",
    "                \n",
    "              第i个柱子能贡献的容纳能力：  V_i=min(max_l,max_r)-height[i]\n",
    "    "
   ]
  },
  {
   "cell_type": "code",
   "execution_count": 2,
   "metadata": {},
   "outputs": [],
   "source": [
    "class Solution(object):\n",
    "    def trap(self, height):\n",
    "    \n",
    "    #找到每一个柱子能接的雨水，然后求和。每一个柱子能接多少水又和柱子的左边的最大和右边的最大值有关\n",
    "    #10.00% 40.66% \n",
    "        Max_v=0\n",
    "        Len=len(height)\n",
    "        if Len<=2:\n",
    "            return 0\n",
    "        l_max=0          #左边最大值先初始化为0\n",
    "        r_max=max(height[1:Len])   #右边最大值先初始化为整个数组最大\n",
    "        for i in range(1,Len-1):\n",
    "            l_max=max(l_max,height[i-1])  #i的左边最大值=max(i-1的左边最大值，i-1)\n",
    "            if r_max==height[i]:      #i的右边最大值=max(i-1的右边边最大值)当i本身不为i-1的右边最大值的时候，否则更新\n",
    "                r_max=max(height[i+1:])\n",
    "            min_lr=min(l_max,r_max)\n",
    "            if min_lr>height[i]:\n",
    "                Max_v=Max_v+min(l_max,r_max)-height[i]\n",
    "        return Max_v"
   ]
  },
  {
   "cell_type": "code",
   "execution_count": null,
   "metadata": {},
   "outputs": [],
   "source": []
  }
 ],
 "metadata": {
  "kernelspec": {
   "display_name": "Python 3",
   "language": "python",
   "name": "python3"
  },
  "language_info": {
   "codemirror_mode": {
    "name": "ipython",
    "version": 3
   },
   "file_extension": ".py",
   "mimetype": "text/x-python",
   "name": "python",
   "nbconvert_exporter": "python",
   "pygments_lexer": "ipython3",
   "version": "3.5.5"
  }
 },
 "nbformat": 4,
 "nbformat_minor": 2
}
