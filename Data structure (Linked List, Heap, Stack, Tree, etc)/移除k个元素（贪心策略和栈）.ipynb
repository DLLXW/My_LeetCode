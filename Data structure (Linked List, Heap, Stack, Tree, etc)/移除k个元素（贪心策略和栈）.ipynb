{
 "cells": [
  {
   "cell_type": "markdown",
   "metadata": {},
   "source": [
    "# 给定一个以字符串表示的非负整数 num，移除这个数中的 k 位数字，使得剩下的数字最小。\n",
    "\n",
    "注意:\n",
    "\n",
    "num 的长度小于 10002 且 ≥ k。\n",
    "num 不会包含任何前导零。\n",
    "示例 1 :\n",
    "\n",
    "输入: num = \"1432219\", k = 3\n",
    "输出: \"1219\"\n",
    "解释: 移除掉三个数字 4, 3, 和 2 形成一个新的最小的数字 1219。\n",
    "示例 2 :\n",
    "\n",
    "输入: num = \"10200\", k = 1\n",
    "输出: \"200\"\n",
    "解释: 移掉首位的 1 剩下的数字为 200. 注意输出不能有任何前导零。"
   ]
  },
  {
   "cell_type": "markdown",
   "metadata": {},
   "source": [
    "# 思路：贪心选择\n",
    "（但是首先得证明该问题用贪心策略是能够得到最优解的，不妨这样思考：要删去k个元素使得剩下的最小，那么剩下的n-k位每一位都要尽可能的小，特别是高位的优先级更高.。要证明贪心策略，也即说明即使不用贪心得到的最优解里面也一定包括贪心选择每一步所得到的局部解:\n",
    "对于该问题，要让最优的最高位露出来，则必然需要去掉它的前一位，要想第二高位漏出来，必然要去掉它的前一位，而贪心选择就是做了这样的事情。\n",
    "    实际操作：num=1432219 k=3\n",
    "    首先找考虑去掉的的第一个数字,分为去掉头和不去头两种情形：去掉1，以4开头的六位数，不去1，以1开头的6位数字，显然，不去1\n",
    "    这样需要从以1开头的六位数中去掉数，去掉哪一个呢？考虑去4和不去4，去4第二位以3开头，不去4以4开头，显然选择去4 num=132219\n",
    "    重复上述步骤.....\n",
    "    实现：以栈来实现，初始栈为空stack=[]\n",
    "       if stack=[]:将num元素入栈\n",
    "             否则判断栈顶元素是不是＞num[i]如果是，则将该元素pop出栈，再满足弹出元素小于k个的情况下，循环的和栈顶比较。\n",
    "             直到num[i]>栈顶，则将num[i] push进栈。"
   ]
  },
  {
   "cell_type": "code",
   "execution_count": null,
   "metadata": {
    "collapsed": true
   },
   "outputs": [],
   "source": [
    "class Solution:\n",
    "    def removeKdigits(self, num: str, k: int) -> str:\n",
    "        stack=[]                          #利用列表实现栈\n",
    "        str_to_int=[int(s) for s in num ]   #字符串到int\n",
    "        count=0                            #记录pop出的元素\n",
    "        Len=len(str_to_int)\n",
    "        if Len<=k or num==\"0\" :            #特殊test用例处理\n",
    "            return \"0\"\n",
    "        if k==0:\n",
    "            return num\n",
    "        i=0\n",
    "        while i<Len:\n",
    "            if stack==[]:\n",
    "                stack.append(str_to_int[i])\n",
    "            elif stack[-1]>str_to_int[i]:\n",
    "                while stack!=[] and stack[-1]>str_to_int[i] and count<k:   #核心代码，出栈操作\n",
    "                    stack.pop(-1)\n",
    "                    count=count+1     #计数\n",
    "                if count==k:\n",
    "                    while stack==[] and i<Len and str_to_int[i]==0:  #处理前导0的情况\n",
    "                        i=i+1\n",
    "                    if i==Len:\n",
    "                        return \"0\"\n",
    "                    return ((''.join(str(m) for m in stack+str_to_int[i:])+'a').strip('0'))[:-1]#这样写是为了去掉栈底的所有0\n",
    "                stack.append(str_to_int[i])\n",
    "            else:\n",
    "                stack.append(str_to_int[i]) \n",
    "            i=i+1\n",
    "        if i==Len and count<k:\n",
    "            return ''.join(str(m) for m in stack[:count-k]+str_to_int[i:])#这一句是1为了处理那种递增序列和大部分递增。\n",
    "        "
   ]
  },
  {
   "cell_type": "code",
   "execution_count": null,
   "metadata": {
    "collapsed": true
   },
   "outputs": [],
   "source": [
    "So=Solution()"
   ]
  },
  {
   "cell_type": "code",
   "execution_count": null,
   "metadata": {
    "collapsed": true
   },
   "outputs": [],
   "source": [
    "So.removeKdigits('123459876',3)"
   ]
  },
  {
   "cell_type": "code",
   "execution_count": null,
   "metadata": {
    "collapsed": true
   },
   "outputs": [],
   "source": []
  }
 ],
 "metadata": {
  "kernelspec": {
   "display_name": "Python 3",
   "language": "python",
   "name": "python3"
  },
  "language_info": {
   "codemirror_mode": {
    "name": "ipython",
    "version": 3
   },
   "file_extension": ".py",
   "mimetype": "text/x-python",
   "name": "python",
   "nbconvert_exporter": "python",
   "pygments_lexer": "ipython3",
   "version": "3.5.5"
  }
 },
 "nbformat": 4,
 "nbformat_minor": 2
}
