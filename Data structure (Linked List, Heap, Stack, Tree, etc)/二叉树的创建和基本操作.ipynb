{
 "cells": [
  {
   "cell_type": "code",
   "execution_count": null,
   "metadata": {
    "collapsed": true
   },
   "outputs": [],
   "source": [
    "class TreeNode(object):\n",
    "    def __init__(self,x,left=None,right=None):\n",
    "        self.val=x\n",
    "        self.left=left\n",
    "        self.right=right\n"
   ]
  },
  {
   "cell_type": "code",
   "execution_count": null,
   "metadata": {
    "collapsed": true
   },
   "outputs": [],
   "source": [
    "class BinaryTree(object):\n",
    "    def __init__(self,Str):\n",
    "        self.Iter=iter(Str)\n",
    "        \n",
    "    def CreatTree(self,BT=None):\n",
    "        try:\n",
    "            data_next=next(self.Iter)\n",
    "            if data_next=='null':\n",
    "                BT==None\n",
    "            else:\n",
    "                BT=TreeNode(data_next)\n",
    "                BT.left=self.CreatTree(BT.left)    #从根开始一直到最左，直到为空\n",
    "                BT.right=self.CreatTree(BT.right)  #开始往右边回溯\n",
    "        except Exception as e:\n",
    "            print(e)\n",
    "            \n",
    "        return BT\n",
    "    \n",
    "                "
   ]
  },
  {
   "cell_type": "code",
   "execution_count": null,
   "metadata": {
    "collapsed": true
   },
   "outputs": [],
   "source": [
    "btree=BinaryTree([1,2,3,'null',5,'null',7,8])"
   ]
  },
  {
   "cell_type": "code",
   "execution_count": null,
   "metadata": {},
   "outputs": [],
   "source": [
    "tree_new=btree.CreatTree()"
   ]
  },
  {
   "cell_type": "code",
   "execution_count": null,
   "metadata": {},
   "outputs": [],
   "source": [
    "tree_new.left.left.right.right.val"
   ]
  },
  {
   "cell_type": "code",
   "execution_count": null,
   "metadata": {
    "collapsed": true
   },
   "outputs": [],
   "source": []
  },
  {
   "cell_type": "code",
   "execution_count": 6,
   "metadata": {
    "collapsed": true
   },
   "outputs": [],
   "source": [
    "#二叉树先序遍历\n",
    "def preOderTrave(tree):\n",
    "    if tree is not None:\n",
    "        print(tree.val)\n",
    "        preOderTrave(tree.left)\n",
    "        preOderTrave(tree.right)\n",
    "\n",
    "def inOrderTrave(tree): \n",
    "    if tree is not None: \n",
    "        inOrderTrave(tree.left) \n",
    "        print(tree.val) \n",
    "        inOrderTrave(tree.right) \n",
    "\n",
    "def postOrderTrave(tree): \n",
    "    if tree is not None: \n",
    "        postOrderTrave(tree.left) \n",
    "        inOrderTrave(tree.right) \n",
    "        print(tree.val) \n"
   ]
  },
  {
   "cell_type": "code",
   "execution_count": null,
   "metadata": {},
   "outputs": [],
   "source": [
    "preOderTrave(tree_new)"
   ]
  },
  {
   "cell_type": "code",
   "execution_count": 8,
   "metadata": {},
   "outputs": [
    {
     "name": "stdout",
     "output_type": "stream",
     "text": [
      "3\n",
      "5\n",
      "8\n",
      "7\n",
      "2\n",
      "1\n"
     ]
    }
   ],
   "source": [
    "inOrderTrave(tree_new)"
   ]
  },
  {
   "cell_type": "code",
   "execution_count": 58,
   "metadata": {},
   "outputs": [
    {
     "name": "stdout",
     "output_type": "stream",
     "text": [
      "5\n",
      "8\n",
      "7\n",
      "6\n",
      "3\n",
      "2\n",
      "1\n"
     ]
    }
   ],
   "source": [
    "postOrderTrave(tree_new)"
   ]
  },
  {
   "cell_type": "code",
   "execution_count": null,
   "metadata": {
    "collapsed": true
   },
   "outputs": [],
   "source": []
  }
 ],
 "metadata": {
  "kernelspec": {
   "display_name": "Python 3",
   "language": "python",
   "name": "python3"
  },
  "language_info": {
   "codemirror_mode": {
    "name": "ipython",
    "version": 3
   },
   "file_extension": ".py",
   "mimetype": "text/x-python",
   "name": "python",
   "nbconvert_exporter": "python",
   "pygments_lexer": "ipython3",
   "version": "3.5.5"
  }
 },
 "nbformat": 4,
 "nbformat_minor": 2
}
