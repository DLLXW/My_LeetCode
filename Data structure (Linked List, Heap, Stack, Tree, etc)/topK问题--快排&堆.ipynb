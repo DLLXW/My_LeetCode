{
 "cells": [
  {
   "cell_type": "raw",
   "metadata": {},
   "source": [
    "在未排序的数组中找到第 k 个最大的元素。请注意，你需要找的是数组排序后的第 k 个最大的元素，而不是第 k 个不同的元素。\n",
    "\n",
    "示例 1:\n",
    "\n",
    "输入: [3,2,1,5,6,4] 和 k = 2\n",
    "输出: 5\n",
    "\n",
    "示例 2:\n",
    "\n",
    "输入: [3,2,3,1,2,4,5,5,6] 和 k = 4\n",
    "输出: 4\n",
    "\n",
    "说明:\n",
    "\n",
    "你可以假设 k 总是有效的，且 1 ≤ k ≤ 数组的长度。"
   ]
  },
  {
   "cell_type": "markdown",
   "metadata": {},
   "source": [
    "# 思路一：分治法\n",
    "    最容易想到的是通过排序来处理，但由于是找第k大的数，所以没必要将所有的数都排序，但是可以借鉴快速排序分治的思想\n",
    "    具体操作如下：\n",
    "    1 定义前后两个指针l,r，慢指针作为哨兵位置，将小于哨兵位置的元素放到一边，大于的放到另一边完毕\n",
    "    判断哨兵位置是否是第k大的数，也即哨兵归位后的index ,判断if index==k-1\n",
    "    2 第一步的具体操作如下：当l<r的时候，先从后往前找到第一个大于哨兵位的数，判断if l<r，执行nums[l]=nums[r]\n",
    "    再从前往后找，先从前往后找到第一个小于哨兵位的数，判断if l<r，执行nums[r]=nums[l]\n",
    "    3哨兵归位\n",
    "    4进行分治处理的要点是如果归位完的哨兵位置大于k-1，则需要处理前面的段，反之处理后面的一段。if index==k-1 返回结果\n",
    "    主函数里面需要不断的执行上述的123.判断哨兵位是否为要找的第k大的数，"
   ]
  },
  {
   "cell_type": "markdown",
   "metadata": {},
   "source": [
    "# 思路二：\n",
    "    利用堆来实现，维护一个大小为k的最小堆，检查nums[i]，若大于堆顶元素则入堆，然后下沉操作，到达指定位置。"
   ]
  },
  {
   "cell_type": "code",
   "execution_count": 6,
   "metadata": {},
   "outputs": [],
   "source": [
    "#思路一 分治\n",
    "class Solution1:\n",
    "    def findKthLargest(self, nums,k):\n",
    "        global L\n",
    "        L=len(nums)-1\n",
    "        global K   \n",
    "        K=k\n",
    "        m=0\n",
    "        re=self.sort_divided(nums,0,L)\n",
    "        while re!=K-1:\n",
    "            if re<K-1:\n",
    "                re=self.sort_divided(nums,re+1,L)\n",
    "            else:\n",
    "                re=self.sort_divided(nums,0,re-1)\n",
    "        print(nums)\n",
    "        return nums[re]\n",
    "    def sort_divided(self,nums,l,r):\n",
    "        key=nums[l]\n",
    "        while(l<r):\n",
    "            while(l<r and nums[r]<=key):\n",
    "                r=r-1\n",
    "            if l<r:\n",
    "                nums[l]=nums[r]\n",
    "            while(l<r and nums[l]>=key):\n",
    "                l=l+1\n",
    "            if l<r:\n",
    "                nums[r]=nums[l]\n",
    "        nums[l]=key\n",
    "        return l\n",
    "            "
   ]
  },
  {
   "cell_type": "code",
   "execution_count": 7,
   "metadata": {},
   "outputs": [],
   "source": [
    "So1=Solution1()"
   ]
  },
  {
   "cell_type": "code",
   "execution_count": 8,
   "metadata": {},
   "outputs": [
    {
     "name": "stdout",
     "output_type": "stream",
     "text": [
      "[6, 5, 5, 4, 3, 3, 2, 1, 2]\n"
     ]
    },
    {
     "data": {
      "text/plain": [
       "4"
      ]
     },
     "execution_count": 8,
     "metadata": {},
     "output_type": "execute_result"
    }
   ],
   "source": [
    "So1.findKthLargest([3,2,3,1,2,4,5,5,6],4)"
   ]
  },
  {
   "cell_type": "code",
   "execution_count": 25,
   "metadata": {},
   "outputs": [],
   "source": [
    "#思路二 通过构建最小堆来实现\n",
    "class Solution2:\n",
    "    def findKthLargest(self, nums,k):\n",
    "        list=nums[:k]\n",
    "        heap=self.creat_heap(list)#利用前k个先创建一个最小堆\n",
    "        for i in range(k,len(nums)):\n",
    "            if nums[i]>heap[0]:\n",
    "                heap[0]=nums[i]\n",
    "                self.sink(heap,0)  #下沉操作，更新堆\n",
    "        return heap[0]\n",
    "    #构建堆\n",
    "    def creat_heap(self,list):\n",
    "        for i in range(len(list)//2-1,-1,-1):\n",
    "            self.sink(list,i)\n",
    "        return list\n",
    "\n",
    "    def sink(self,list,root): #构建最小堆的下沉操作\n",
    "        if 2*root+1 < len(list):  #左子结点\n",
    "        #取左右结点中小的那个\n",
    "            k = 2*root+2 if 2*root+2 < len(list) and list[2*root+2] < list[2*root+1] else 2*root+1  \n",
    "        #让k成为较小的子节点的index\n",
    "            if list[root] > list[k]:\n",
    "                (list[root],list[k]) = (list[k],list[root])     #交换值\n",
    "                self.sink(list,k)              #对子节点为根节点的子树建堆"
   ]
  },
  {
   "cell_type": "code",
   "execution_count": 26,
   "metadata": {},
   "outputs": [
    {
     "data": {
      "text/plain": [
       "4"
      ]
     },
     "execution_count": 26,
     "metadata": {},
     "output_type": "execute_result"
    }
   ],
   "source": [
    "so2=Solution2()\n",
    "so2.findKthLargest([3,2,3,1,2,4,5,5,6],4)"
   ]
  },
  {
   "cell_type": "markdown",
   "metadata": {},
   "source": [
    "# 拓展：堆与堆排序 // 快速排序"
   ]
  },
  {
   "cell_type": "code",
   "execution_count": 27,
   "metadata": {},
   "outputs": [
    {
     "name": "stdout",
     "output_type": "stream",
     "text": [
      "[-2, 2, 3, 4, 7, 10, 18, 18, 23, 37, 42]\n"
     ]
    }
   ],
   "source": [
    "#构建堆\n",
    "import os\n",
    "import sys\n",
    "\n",
    "#构建堆\n",
    "def creat_heap(list):\n",
    "    for i in range(len(list)//2-1,-1,-1):\n",
    "        sink(list,i)\n",
    "    return list[0]\n",
    "\n",
    "def sink(list,root):\n",
    "    if 2*root+1 < len(list):  #左子结点\n",
    "        #取左右结点中小的那个\n",
    "        k = 2*root+2 if 2*root+2 < len(list) and list[2*root+2] < list[2*root+1] else 2*root+1  \n",
    "        #让k成为较小的子节点的index\n",
    "        if list[root] > list[k]:\n",
    "            (list[root],list[k]) = (list[k],list[root])     #交换值\n",
    "            sink(list,k)              #对子节点为根节点的子树建堆\n",
    "#堆排序\n",
    "def sort_heap(list):\n",
    "    sorted_list=[]\n",
    "    while list!=[]:\n",
    "        sorted_list.append(creat_heap(list))\n",
    "        list.pop(0)\n",
    "    return sorted_list\n",
    "if __name__ == \"__main__\":\n",
    "    list = [10, 18, -2, 3, 7, 4, 18, 23, 42, 37, 2]\n",
    "    sorted_list=sort_heap(list)\n",
    "    print(sorted_list)"
   ]
  },
  {
   "cell_type": "markdown",
   "metadata": {},
   "source": [
    "# 快速排序 双指针写法"
   ]
  },
  {
   "cell_type": "code",
   "execution_count": 37,
   "metadata": {},
   "outputs": [
    {
     "name": "stdout",
     "output_type": "stream",
     "text": [
      "[-2, 2, 3, 4, 7, 10, 18, 18, 23, 37, 42]\n"
     ]
    }
   ],
   "source": [
    "def quick_sort_standord(array,low,high):\n",
    "  \n",
    "    if low<high:\n",
    "        key_index=partion(array,low,high)\n",
    "        quick_sort_standord(array,low,key_index)\n",
    "        quick_sort_standord(array,key_index+1,high)\n",
    "    return 0\n",
    "def partion(array,low,high):\n",
    "    key=array[low]\n",
    "    while low<high:\n",
    "        while low<high and array[high]>=key:\n",
    "            high-=1\n",
    "        if low<high:\n",
    "            array[low]=array[high]\n",
    "        while low<high and array[low]<key:\n",
    "            low+=1\n",
    "        if low<high:\n",
    "            array[high]=array[low]\n",
    " \n",
    "    array[low]=key\n",
    "    return low\n",
    " \n",
    "if __name__ == '__main__':\n",
    "    array= [10, 18, -2, 3, 7, 4, 18, 23, 42, 37, 2]\n",
    "    quick_sort_standord(array,0,len(array)-1)\n",
    "    print(array)"
   ]
  },
  {
   "cell_type": "code",
   "execution_count": null,
   "metadata": {},
   "outputs": [],
   "source": []
  }
 ],
 "metadata": {
  "kernelspec": {
   "display_name": "Python 3",
   "language": "python",
   "name": "python3"
  },
  "language_info": {
   "codemirror_mode": {
    "name": "ipython",
    "version": 3
   },
   "file_extension": ".py",
   "mimetype": "text/x-python",
   "name": "python",
   "nbconvert_exporter": "python",
   "pygments_lexer": "ipython3",
   "version": "3.5.5"
  }
 },
 "nbformat": 4,
 "nbformat_minor": 2
}
